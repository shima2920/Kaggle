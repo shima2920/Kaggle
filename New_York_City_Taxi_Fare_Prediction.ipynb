{
  "nbformat": 4,
  "nbformat_minor": 0,
  "metadata": {
    "accelerator": "GPU",
    "colab": {
      "name": "New York City Taxi Fare Prediction",
      "provenance": [],
      "collapsed_sections": [
        "Jmtg7yyJxIV7"
      ],
      "toc_visible": true,
      "authorship_tag": "ABX9TyNLPLjx1JDnrBU5Yc0X0tgU",
      "include_colab_link": true
    },
    "kernelspec": {
      "display_name": "Python 3",
      "name": "python3"
    }
  },
  "cells": [
    {
      "cell_type": "markdown",
      "metadata": {
        "id": "view-in-github",
        "colab_type": "text"
      },
      "source": [
        "<a href=\"https://colab.research.google.com/github/shima2920/Kaggle/blob/main/New_York_City_Taxi_Fare_Prediction.ipynb\" target=\"_parent\"><img src=\"https://colab.research.google.com/assets/colab-badge.svg\" alt=\"Open In Colab\"/></a>"
      ]
    },
    {
      "cell_type": "code",
      "metadata": {
        "colab": {
          "resources": {
            "http://localhost:8080/nbextensions/google.colab/files.js": {
              "data": "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",
              "ok": true,
              "headers": [
                [
                  "content-type",
                  "application/javascript"
                ]
              ],
              "status": 200,
              "status_text": ""
            }
          },
          "base_uri": "https://localhost:8080/",
          "height": 496
        },
        "id": "BXhi2uwLTZlj",
        "outputId": "6112638b-7cd0-4114-ab8f-1c3e3e8465d6"
      },
      "source": [
        "! pip install -q kaggle\r\n",
        "\r\n",
        "from google.colab import files\r\n",
        "files.upload()\r\n",
        "#Kaggle account で発行した API token key ファイルを Upload する。\r\n",
        "\r\n",
        "! mkdir ~/.kaggle\r\n",
        "\r\n",
        "! cp kaggle.json ~/.kaggle/\r\n",
        "\r\n",
        "! chmod 600 ~/.kaggle/kaggle.json\r\n",
        "\r\n",
        "! kaggle datasets list\r\n"
      ],
      "execution_count": 1,
      "outputs": [
        {
          "output_type": "display_data",
          "data": {
            "text/html": [
              "\n",
              "     <input type=\"file\" id=\"files-159d1e23-9889-4591-a7ce-cb064c144738\" name=\"files[]\" multiple disabled\n",
              "        style=\"border:none\" />\n",
              "     <output id=\"result-159d1e23-9889-4591-a7ce-cb064c144738\">\n",
              "      Upload widget is only available when the cell has been executed in the\n",
              "      current browser session. Please rerun this cell to enable.\n",
              "      </output>\n",
              "      <script src=\"/nbextensions/google.colab/files.js\"></script> "
            ],
            "text/plain": [
              "<IPython.core.display.HTML object>"
            ]
          },
          "metadata": {
            "tags": []
          }
        },
        {
          "output_type": "stream",
          "text": [
            "Saving kaggle.json to kaggle.json\n",
            "Warning: Looks like you're using an outdated API Version, please consider updating (server 1.5.10 / client 1.5.4)\n",
            "ref                                                       title                                         size  lastUpdated          downloadCount  \n",
            "--------------------------------------------------------  -------------------------------------------  -----  -------------------  -------------  \n",
            "michau96/restaurant-business-rankings-2020                Restaurant Business Rankings 2020             16KB  2021-01-30 14:20:45           3822  \n",
            "gpreda/reddit-wallstreetsbets-posts                       Reddit WallStreetBets Posts                    8MB  2021-02-26 11:18:15           1860  \n",
            "yorkehead/stock-market-subreddits                         Stock Market Subreddits                        1MB  2021-01-29 13:53:50            367  \n",
            "aagghh/crypto-telegram-groups                             Crypto telegram groups                       297MB  2021-02-02 09:58:25            223  \n",
            "timoboz/superbowl-history-1967-2020                       Superbowl History 1967 - 2020                  2KB  2020-02-03 23:41:14           4722  \n",
            "prondeau/superbowlads                                     Super Bowl Ads                                36KB  2020-02-04 18:04:07           1286  \n",
            "jessemostipak/african-american-achievements               African American Achievements                 28KB  2020-06-08 22:15:20            273  \n",
            "iainmcintosh/wsb-gme-reddit-submission-vs-stock-price     WSB / GME Reddit submission vs stock price   210KB  2021-01-30 15:31:16             86  \n",
            "docsouth-data/north-american-slave-narratives             North American Slave Narratives               42MB  2017-08-14 18:54:00            209  \n",
            "docsouth-data/the-church-in-the-southern-black-community  The Church in the Southern Black Community    28MB  2017-08-14 19:50:28            132  \n",
            "shivamb/netflix-shows                                     Netflix Movies and TV Shows                    1MB  2021-01-18 16:20:26          98273  \n",
            "gpreda/covid-world-vaccination-progress                   COVID-19 World Vaccination Progress           96KB  2021-02-26 20:08:00          18044  \n",
            "arashnic/hr-analytics-job-change-of-data-scientists       HR Analytics: Job Change of Data Scientists  295KB  2020-12-07 00:25:10          10219  \n",
            "jsphyg/weather-dataset-rattle-package                     Rain in Australia                              4MB  2020-12-11 10:26:12          35053  \n",
            "ayushggarg/all-trumps-twitter-insults-20152021            All Trump's Twitter insults (2015-2021)      581KB  2021-01-20 16:51:05           3635  \n",
            "sakshigoyal7/credit-card-customers                        Credit Card customers                        379KB  2020-11-19 07:38:44          27335  \n",
            "datasnaek/youtube-new                                     Trending YouTube Video Statistics            201MB  2019-06-03 00:56:47         128785  \n",
            "google/tinyquickdraw                                      QuickDraw Sketches                            11GB  2018-04-18 19:38:04           2866  \n",
            "zynicide/wine-reviews                                     Wine Reviews                                  51MB  2017-11-27 17:08:04         129285  \n",
            "datasnaek/chess                                           Chess Game Dataset (Lichess)                   3MB  2017-09-04 03:09:09          15062  \n"
          ],
          "name": "stdout"
        }
      ]
    },
    {
      "cell_type": "code",
      "metadata": {
        "colab": {
          "base_uri": "https://localhost:8080/"
        },
        "id": "yZ89BfOATmr-",
        "outputId": "ffe36c2a-61a8-4e53-8a77-7f5aceddd9c3"
      },
      "source": [
        "!kaggle competitions download -c new-york-city-taxi-fare-prediction"
      ],
      "execution_count": 2,
      "outputs": [
        {
          "output_type": "stream",
          "text": [
            "Warning: Looks like you're using an outdated API Version, please consider updating (server 1.5.10 / client 1.5.4)\n",
            "Downloading sample_submission.csv to /content\n",
            "  0% 0.00/335k [00:00<?, ?B/s]\n",
            "100% 335k/335k [00:00<00:00, 49.9MB/s]\n",
            "Downloading GCP-Coupons-Instructions.rtf to /content\n",
            "  0% 0.00/486 [00:00<?, ?B/s]\n",
            "100% 486/486 [00:00<00:00, 495kB/s]\n",
            "Downloading train.csv.zip to /content\n",
            " 99% 1.55G/1.56G [00:20<00:00, 94.0MB/s]\n",
            "100% 1.56G/1.56G [00:20<00:00, 82.4MB/s]\n",
            "Downloading test.csv to /content\n",
            "  0% 0.00/960k [00:00<?, ?B/s]\n",
            "100% 960k/960k [00:00<00:00, 133MB/s]\n"
          ],
          "name": "stdout"
        }
      ]
    },
    {
      "cell_type": "markdown",
      "metadata": {
        "id": "xlrOMeh4UEzt"
      },
      "source": [
        "# This is Kaggle Competition \"New York City Taxi Fare Prediction\"\r\n",
        "\r\n",
        "https://www.kaggle.com/c/new-york-city-taxi-fare-prediction/data"
      ]
    },
    {
      "cell_type": "markdown",
      "metadata": {
        "id": "gVn_YU0mUOeE"
      },
      "source": [
        "## **Update** \r\n",
        "\r\n",
        "**02/26/2021**\r\n",
        "\r\n",
        " \r\n",
        "\r\n",
        "**drop longtitude, latitude and create the distance.And, remove the outlier over 99.5% data.**\r\n",
        "\r\n",
        "The rmse of prediction is: 4.244904591114432\r\n",
        "\r\n",
        "**Remove the outlier over 95.0% data**.\r\n",
        "\r\n",
        "The rmse of prediction is: 3.0105892906116125\r\n",
        "\r\n",
        "But, 5.35489 Public score on LeaderBoard.\r\n",
        "\r\n",
        "**Remove the outlier on passenger_count column**\r\n",
        "\r\n",
        "The rmse of prediction is: 4.216629707647034\r\n",
        "\r\n",
        "4.09802 on LeaderBoard.\r\n",
        "\r\n",
        "**Deep learning**\r\n",
        "\r\n",
        "4.51722 on LeaderBoard.\r\n",
        "\r\n",
        "\r\n"
      ]
    },
    {
      "cell_type": "markdown",
      "metadata": {
        "id": "y1ErLQJdUS7k"
      },
      "source": [
        "# Import library"
      ]
    },
    {
      "cell_type": "code",
      "metadata": {
        "id": "KxCSE5sgT9GQ"
      },
      "source": [
        "from tqdm import tqdm\r\n",
        "import numpy as np # linear algebra\r\n",
        "import pandas as pd # data processing, CSV file I/O (e.g. pd.read_csv)\r\n",
        "from sklearn import preprocessing\r\n",
        "from sklearn.preprocessing import LabelEncoder#Label Encoding\r\n",
        "from sklearn.model_selection import train_test_split\r\n",
        "from mpl_toolkits.mplot3d import Axes3D\r\n",
        "import seaborn as sns\r\n",
        "from matplotlib import pyplot as plt\r\n",
        "from sklearn.linear_model import LinearRegression\r\n",
        "from sklearn.linear_model import LogisticRegression\r\n",
        "from sklearn.ensemble import RandomForestClassifier\r\n",
        "from sklearn.ensemble import RandomForestRegressor\r\n",
        "from sklearn.ensemble import ExtraTreesClassifier\r\n",
        "from sklearn.metrics import mean_squared_error\r\n",
        "import lightgbm as lgb\r\n",
        "#import optuna.integration.lightgbm as lgb #LightLGBのハイパーパラメータチューニングモジュールであるOptunaをimport\r\n",
        "import lightgbm as lgb_original\r\n",
        "import xgboost as xgb\r\n",
        "from sklearn.model_selection import GridSearchCV\r\n",
        "import xgboost as XGBClassifier\r\n",
        "from sklearn.model_selection import train_test_split\r\n",
        "from keras.layers import Dense, Dropout #Dense : ニューラルネットの層を定義？\r\n",
        "from keras.models import Sequential# 複雑なニューラルネットワークモデルを簡略化するためのモデルの一つであるSequentialモデル\r\n",
        "from sklearn.preprocessing import StandardScaler #標準化\r\n",
        "\r\n",
        "\r\n",
        "\r\n",
        "#Validation\r\n",
        "from sklearn.metrics import log_loss, accuracy_score\r\n",
        "from sklearn.model_selection import KFold\r\n",
        "\r\n",
        "\r\n",
        "#イテレータ, ループ処理を実行してくれる\r\n",
        "import itertools\r\n",
        "\r\n",
        "pd.set_option(\"display.max_rows\", 10000)\r\n",
        "pd.set_option('display.max_columns', 1000)\r\n",
        "%matplotlib inline"
      ],
      "execution_count": 3,
      "outputs": []
    },
    {
      "cell_type": "markdown",
      "metadata": {
        "id": "h8MHftP8UV0S"
      },
      "source": [
        "# Import data"
      ]
    },
    {
      "cell_type": "markdown",
      "metadata": {
        "id": "_7WRx9NmYA39"
      },
      "source": [
        "Train data set is huge, so import just a part of train data."
      ]
    },
    {
      "cell_type": "code",
      "metadata": {
        "id": "XxVof26KUVHW"
      },
      "source": [
        "train = pd.read_csv('train.csv.zip', nrows = 6000000)"
      ],
      "execution_count": 4,
      "outputs": []
    },
    {
      "cell_type": "code",
      "metadata": {
        "id": "iYGO3KSjXQyP"
      },
      "source": [
        "test = pd.read_csv('test.csv')\r\n",
        "sample_submission = pd.read_csv('sample_submission.csv')"
      ],
      "execution_count": 5,
      "outputs": []
    },
    {
      "cell_type": "markdown",
      "metadata": {
        "id": "YsVBXPwdUn3-"
      },
      "source": [
        "**Data description**\r\n",
        "\r\n",
        "![image.png](data:image/png;base64,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)"
      ]
    },
    {
      "cell_type": "code",
      "metadata": {
        "colab": {
          "base_uri": "https://localhost:8080/",
          "height": 198
        },
        "id": "ryOau0o4UZQm",
        "outputId": "dab40dab-fddc-47d6-a7ba-14c5b73874d0"
      },
      "source": [
        "train.head()"
      ],
      "execution_count": 6,
      "outputs": [
        {
          "output_type": "execute_result",
          "data": {
            "text/html": [
              "<div>\n",
              "<style scoped>\n",
              "    .dataframe tbody tr th:only-of-type {\n",
              "        vertical-align: middle;\n",
              "    }\n",
              "\n",
              "    .dataframe tbody tr th {\n",
              "        vertical-align: top;\n",
              "    }\n",
              "\n",
              "    .dataframe thead th {\n",
              "        text-align: right;\n",
              "    }\n",
              "</style>\n",
              "<table border=\"1\" class=\"dataframe\">\n",
              "  <thead>\n",
              "    <tr style=\"text-align: right;\">\n",
              "      <th></th>\n",
              "      <th>key</th>\n",
              "      <th>fare_amount</th>\n",
              "      <th>pickup_datetime</th>\n",
              "      <th>pickup_longitude</th>\n",
              "      <th>pickup_latitude</th>\n",
              "      <th>dropoff_longitude</th>\n",
              "      <th>dropoff_latitude</th>\n",
              "      <th>passenger_count</th>\n",
              "    </tr>\n",
              "  </thead>\n",
              "  <tbody>\n",
              "    <tr>\n",
              "      <th>0</th>\n",
              "      <td>2009-06-15 17:26:21.0000001</td>\n",
              "      <td>4.5</td>\n",
              "      <td>2009-06-15 17:26:21 UTC</td>\n",
              "      <td>-73.844311</td>\n",
              "      <td>40.721319</td>\n",
              "      <td>-73.841610</td>\n",
              "      <td>40.712278</td>\n",
              "      <td>1</td>\n",
              "    </tr>\n",
              "    <tr>\n",
              "      <th>1</th>\n",
              "      <td>2010-01-05 16:52:16.0000002</td>\n",
              "      <td>16.9</td>\n",
              "      <td>2010-01-05 16:52:16 UTC</td>\n",
              "      <td>-74.016048</td>\n",
              "      <td>40.711303</td>\n",
              "      <td>-73.979268</td>\n",
              "      <td>40.782004</td>\n",
              "      <td>1</td>\n",
              "    </tr>\n",
              "    <tr>\n",
              "      <th>2</th>\n",
              "      <td>2011-08-18 00:35:00.00000049</td>\n",
              "      <td>5.7</td>\n",
              "      <td>2011-08-18 00:35:00 UTC</td>\n",
              "      <td>-73.982738</td>\n",
              "      <td>40.761270</td>\n",
              "      <td>-73.991242</td>\n",
              "      <td>40.750562</td>\n",
              "      <td>2</td>\n",
              "    </tr>\n",
              "    <tr>\n",
              "      <th>3</th>\n",
              "      <td>2012-04-21 04:30:42.0000001</td>\n",
              "      <td>7.7</td>\n",
              "      <td>2012-04-21 04:30:42 UTC</td>\n",
              "      <td>-73.987130</td>\n",
              "      <td>40.733143</td>\n",
              "      <td>-73.991567</td>\n",
              "      <td>40.758092</td>\n",
              "      <td>1</td>\n",
              "    </tr>\n",
              "    <tr>\n",
              "      <th>4</th>\n",
              "      <td>2010-03-09 07:51:00.000000135</td>\n",
              "      <td>5.3</td>\n",
              "      <td>2010-03-09 07:51:00 UTC</td>\n",
              "      <td>-73.968095</td>\n",
              "      <td>40.768008</td>\n",
              "      <td>-73.956655</td>\n",
              "      <td>40.783762</td>\n",
              "      <td>1</td>\n",
              "    </tr>\n",
              "  </tbody>\n",
              "</table>\n",
              "</div>"
            ],
            "text/plain": [
              "                             key  fare_amount          pickup_datetime  \\\n",
              "0    2009-06-15 17:26:21.0000001          4.5  2009-06-15 17:26:21 UTC   \n",
              "1    2010-01-05 16:52:16.0000002         16.9  2010-01-05 16:52:16 UTC   \n",
              "2   2011-08-18 00:35:00.00000049          5.7  2011-08-18 00:35:00 UTC   \n",
              "3    2012-04-21 04:30:42.0000001          7.7  2012-04-21 04:30:42 UTC   \n",
              "4  2010-03-09 07:51:00.000000135          5.3  2010-03-09 07:51:00 UTC   \n",
              "\n",
              "   pickup_longitude  pickup_latitude  dropoff_longitude  dropoff_latitude  \\\n",
              "0        -73.844311        40.721319         -73.841610         40.712278   \n",
              "1        -74.016048        40.711303         -73.979268         40.782004   \n",
              "2        -73.982738        40.761270         -73.991242         40.750562   \n",
              "3        -73.987130        40.733143         -73.991567         40.758092   \n",
              "4        -73.968095        40.768008         -73.956655         40.783762   \n",
              "\n",
              "   passenger_count  \n",
              "0                1  \n",
              "1                1  \n",
              "2                2  \n",
              "3                1  \n",
              "4                1  "
            ]
          },
          "metadata": {
            "tags": []
          },
          "execution_count": 6
        }
      ]
    },
    {
      "cell_type": "code",
      "metadata": {
        "colab": {
          "base_uri": "https://localhost:8080/",
          "height": 198
        },
        "id": "HtRqO1byYvU7",
        "outputId": "bfe3cdf6-4edc-4879-8455-e96978e868fa"
      },
      "source": [
        "test.head()"
      ],
      "execution_count": 7,
      "outputs": [
        {
          "output_type": "execute_result",
          "data": {
            "text/html": [
              "<div>\n",
              "<style scoped>\n",
              "    .dataframe tbody tr th:only-of-type {\n",
              "        vertical-align: middle;\n",
              "    }\n",
              "\n",
              "    .dataframe tbody tr th {\n",
              "        vertical-align: top;\n",
              "    }\n",
              "\n",
              "    .dataframe thead th {\n",
              "        text-align: right;\n",
              "    }\n",
              "</style>\n",
              "<table border=\"1\" class=\"dataframe\">\n",
              "  <thead>\n",
              "    <tr style=\"text-align: right;\">\n",
              "      <th></th>\n",
              "      <th>key</th>\n",
              "      <th>pickup_datetime</th>\n",
              "      <th>pickup_longitude</th>\n",
              "      <th>pickup_latitude</th>\n",
              "      <th>dropoff_longitude</th>\n",
              "      <th>dropoff_latitude</th>\n",
              "      <th>passenger_count</th>\n",
              "    </tr>\n",
              "  </thead>\n",
              "  <tbody>\n",
              "    <tr>\n",
              "      <th>0</th>\n",
              "      <td>2015-01-27 13:08:24.0000002</td>\n",
              "      <td>2015-01-27 13:08:24 UTC</td>\n",
              "      <td>-73.973320</td>\n",
              "      <td>40.763805</td>\n",
              "      <td>-73.981430</td>\n",
              "      <td>40.743835</td>\n",
              "      <td>1</td>\n",
              "    </tr>\n",
              "    <tr>\n",
              "      <th>1</th>\n",
              "      <td>2015-01-27 13:08:24.0000003</td>\n",
              "      <td>2015-01-27 13:08:24 UTC</td>\n",
              "      <td>-73.986862</td>\n",
              "      <td>40.719383</td>\n",
              "      <td>-73.998886</td>\n",
              "      <td>40.739201</td>\n",
              "      <td>1</td>\n",
              "    </tr>\n",
              "    <tr>\n",
              "      <th>2</th>\n",
              "      <td>2011-10-08 11:53:44.0000002</td>\n",
              "      <td>2011-10-08 11:53:44 UTC</td>\n",
              "      <td>-73.982524</td>\n",
              "      <td>40.751260</td>\n",
              "      <td>-73.979654</td>\n",
              "      <td>40.746139</td>\n",
              "      <td>1</td>\n",
              "    </tr>\n",
              "    <tr>\n",
              "      <th>3</th>\n",
              "      <td>2012-12-01 21:12:12.0000002</td>\n",
              "      <td>2012-12-01 21:12:12 UTC</td>\n",
              "      <td>-73.981160</td>\n",
              "      <td>40.767807</td>\n",
              "      <td>-73.990448</td>\n",
              "      <td>40.751635</td>\n",
              "      <td>1</td>\n",
              "    </tr>\n",
              "    <tr>\n",
              "      <th>4</th>\n",
              "      <td>2012-12-01 21:12:12.0000003</td>\n",
              "      <td>2012-12-01 21:12:12 UTC</td>\n",
              "      <td>-73.966046</td>\n",
              "      <td>40.789775</td>\n",
              "      <td>-73.988565</td>\n",
              "      <td>40.744427</td>\n",
              "      <td>1</td>\n",
              "    </tr>\n",
              "  </tbody>\n",
              "</table>\n",
              "</div>"
            ],
            "text/plain": [
              "                           key          pickup_datetime  pickup_longitude  \\\n",
              "0  2015-01-27 13:08:24.0000002  2015-01-27 13:08:24 UTC        -73.973320   \n",
              "1  2015-01-27 13:08:24.0000003  2015-01-27 13:08:24 UTC        -73.986862   \n",
              "2  2011-10-08 11:53:44.0000002  2011-10-08 11:53:44 UTC        -73.982524   \n",
              "3  2012-12-01 21:12:12.0000002  2012-12-01 21:12:12 UTC        -73.981160   \n",
              "4  2012-12-01 21:12:12.0000003  2012-12-01 21:12:12 UTC        -73.966046   \n",
              "\n",
              "   pickup_latitude  dropoff_longitude  dropoff_latitude  passenger_count  \n",
              "0        40.763805         -73.981430         40.743835                1  \n",
              "1        40.719383         -73.998886         40.739201                1  \n",
              "2        40.751260         -73.979654         40.746139                1  \n",
              "3        40.767807         -73.990448         40.751635                1  \n",
              "4        40.789775         -73.988565         40.744427                1  "
            ]
          },
          "metadata": {
            "tags": []
          },
          "execution_count": 7
        }
      ]
    },
    {
      "cell_type": "code",
      "metadata": {
        "colab": {
          "base_uri": "https://localhost:8080/",
          "height": 198
        },
        "id": "se06SGnfWh2D",
        "outputId": "2c5bd288-ff68-433c-af58-54444ce10a0c"
      },
      "source": [
        "sample_submission.head()"
      ],
      "execution_count": 8,
      "outputs": [
        {
          "output_type": "execute_result",
          "data": {
            "text/html": [
              "<div>\n",
              "<style scoped>\n",
              "    .dataframe tbody tr th:only-of-type {\n",
              "        vertical-align: middle;\n",
              "    }\n",
              "\n",
              "    .dataframe tbody tr th {\n",
              "        vertical-align: top;\n",
              "    }\n",
              "\n",
              "    .dataframe thead th {\n",
              "        text-align: right;\n",
              "    }\n",
              "</style>\n",
              "<table border=\"1\" class=\"dataframe\">\n",
              "  <thead>\n",
              "    <tr style=\"text-align: right;\">\n",
              "      <th></th>\n",
              "      <th>key</th>\n",
              "      <th>fare_amount</th>\n",
              "    </tr>\n",
              "  </thead>\n",
              "  <tbody>\n",
              "    <tr>\n",
              "      <th>0</th>\n",
              "      <td>2015-01-27 13:08:24.0000002</td>\n",
              "      <td>11.35</td>\n",
              "    </tr>\n",
              "    <tr>\n",
              "      <th>1</th>\n",
              "      <td>2015-01-27 13:08:24.0000003</td>\n",
              "      <td>11.35</td>\n",
              "    </tr>\n",
              "    <tr>\n",
              "      <th>2</th>\n",
              "      <td>2011-10-08 11:53:44.0000002</td>\n",
              "      <td>11.35</td>\n",
              "    </tr>\n",
              "    <tr>\n",
              "      <th>3</th>\n",
              "      <td>2012-12-01 21:12:12.0000002</td>\n",
              "      <td>11.35</td>\n",
              "    </tr>\n",
              "    <tr>\n",
              "      <th>4</th>\n",
              "      <td>2012-12-01 21:12:12.0000003</td>\n",
              "      <td>11.35</td>\n",
              "    </tr>\n",
              "  </tbody>\n",
              "</table>\n",
              "</div>"
            ],
            "text/plain": [
              "                           key  fare_amount\n",
              "0  2015-01-27 13:08:24.0000002        11.35\n",
              "1  2015-01-27 13:08:24.0000003        11.35\n",
              "2  2011-10-08 11:53:44.0000002        11.35\n",
              "3  2012-12-01 21:12:12.0000002        11.35\n",
              "4  2012-12-01 21:12:12.0000003        11.35"
            ]
          },
          "metadata": {
            "tags": []
          },
          "execution_count": 8
        }
      ]
    },
    {
      "cell_type": "code",
      "metadata": {
        "colab": {
          "base_uri": "https://localhost:8080/"
        },
        "id": "ZoaHQlPiYxDW",
        "outputId": "b2dfbe32-7047-441b-9617-3b4a8da565b9"
      },
      "source": [
        "print('Training Features shape: ', train.shape)\r\n",
        "print('Testing Features shape: ', test.shape)"
      ],
      "execution_count": 9,
      "outputs": [
        {
          "output_type": "stream",
          "text": [
            "Training Features shape:  (6000000, 8)\n",
            "Testing Features shape:  (9914, 7)\n"
          ],
          "name": "stdout"
        }
      ]
    },
    {
      "cell_type": "markdown",
      "metadata": {
        "id": "OHK960XPZhz8"
      },
      "source": [
        "# Check missing value"
      ]
    },
    {
      "cell_type": "code",
      "metadata": {
        "colab": {
          "base_uri": "https://localhost:8080/",
          "height": 288
        },
        "id": "J7nEO4q-Zk2T",
        "outputId": "4e098bcf-4467-4425-8c1f-0b92fb2e0073"
      },
      "source": [
        "#train\r\n",
        "total = train.isnull().sum().sort_values(ascending=False)\r\n",
        "percent = ((train.isnull().sum()/train.isnull().count())*100).sort_values(ascending=False)\r\n",
        "missing_data = pd.concat([total, percent], axis=1, keys=['Total', 'Percent'])\r\n",
        "missing_data.head(434)"
      ],
      "execution_count": 10,
      "outputs": [
        {
          "output_type": "execute_result",
          "data": {
            "text/html": [
              "<div>\n",
              "<style scoped>\n",
              "    .dataframe tbody tr th:only-of-type {\n",
              "        vertical-align: middle;\n",
              "    }\n",
              "\n",
              "    .dataframe tbody tr th {\n",
              "        vertical-align: top;\n",
              "    }\n",
              "\n",
              "    .dataframe thead th {\n",
              "        text-align: right;\n",
              "    }\n",
              "</style>\n",
              "<table border=\"1\" class=\"dataframe\">\n",
              "  <thead>\n",
              "    <tr style=\"text-align: right;\">\n",
              "      <th></th>\n",
              "      <th>Total</th>\n",
              "      <th>Percent</th>\n",
              "    </tr>\n",
              "  </thead>\n",
              "  <tbody>\n",
              "    <tr>\n",
              "      <th>dropoff_latitude</th>\n",
              "      <td>39</td>\n",
              "      <td>0.00065</td>\n",
              "    </tr>\n",
              "    <tr>\n",
              "      <th>dropoff_longitude</th>\n",
              "      <td>39</td>\n",
              "      <td>0.00065</td>\n",
              "    </tr>\n",
              "    <tr>\n",
              "      <th>passenger_count</th>\n",
              "      <td>0</td>\n",
              "      <td>0.00000</td>\n",
              "    </tr>\n",
              "    <tr>\n",
              "      <th>pickup_latitude</th>\n",
              "      <td>0</td>\n",
              "      <td>0.00000</td>\n",
              "    </tr>\n",
              "    <tr>\n",
              "      <th>pickup_longitude</th>\n",
              "      <td>0</td>\n",
              "      <td>0.00000</td>\n",
              "    </tr>\n",
              "    <tr>\n",
              "      <th>pickup_datetime</th>\n",
              "      <td>0</td>\n",
              "      <td>0.00000</td>\n",
              "    </tr>\n",
              "    <tr>\n",
              "      <th>fare_amount</th>\n",
              "      <td>0</td>\n",
              "      <td>0.00000</td>\n",
              "    </tr>\n",
              "    <tr>\n",
              "      <th>key</th>\n",
              "      <td>0</td>\n",
              "      <td>0.00000</td>\n",
              "    </tr>\n",
              "  </tbody>\n",
              "</table>\n",
              "</div>"
            ],
            "text/plain": [
              "                   Total  Percent\n",
              "dropoff_latitude      39  0.00065\n",
              "dropoff_longitude     39  0.00065\n",
              "passenger_count        0  0.00000\n",
              "pickup_latitude        0  0.00000\n",
              "pickup_longitude       0  0.00000\n",
              "pickup_datetime        0  0.00000\n",
              "fare_amount            0  0.00000\n",
              "key                    0  0.00000"
            ]
          },
          "metadata": {
            "tags": []
          },
          "execution_count": 10
        }
      ]
    },
    {
      "cell_type": "markdown",
      "metadata": {
        "id": "WwzNeutZaiI4"
      },
      "source": [
        "There are 10 missing values, need to remove these rows."
      ]
    },
    {
      "cell_type": "code",
      "metadata": {
        "id": "0N_psRtFa9EU"
      },
      "source": [
        "train = train.dropna(how='any')"
      ],
      "execution_count": 11,
      "outputs": []
    },
    {
      "cell_type": "code",
      "metadata": {
        "colab": {
          "base_uri": "https://localhost:8080/"
        },
        "id": "UXR9RPg5bQ_Z",
        "outputId": "b5e9946b-ad63-49b5-cc3c-97e414a5d77e"
      },
      "source": [
        "train.shape"
      ],
      "execution_count": 12,
      "outputs": [
        {
          "output_type": "execute_result",
          "data": {
            "text/plain": [
              "(5999961, 8)"
            ]
          },
          "metadata": {
            "tags": []
          },
          "execution_count": 12
        }
      ]
    },
    {
      "cell_type": "code",
      "metadata": {
        "colab": {
          "base_uri": "https://localhost:8080/",
          "height": 258
        },
        "id": "7OrzALwCadaw",
        "outputId": "967b4541-bd02-4c1a-d211-860c84f86b2e"
      },
      "source": [
        "#Test\r\n",
        "total = test.isnull().sum().sort_values(ascending=False)\r\n",
        "percent = (test.isnull().sum()/test.isnull().count()).sort_values(ascending=False)\r\n",
        "missing_data = pd.concat([total, percent], axis=1, keys=['Total', 'Percent'])\r\n",
        "missing_data.head(100)"
      ],
      "execution_count": 13,
      "outputs": [
        {
          "output_type": "execute_result",
          "data": {
            "text/html": [
              "<div>\n",
              "<style scoped>\n",
              "    .dataframe tbody tr th:only-of-type {\n",
              "        vertical-align: middle;\n",
              "    }\n",
              "\n",
              "    .dataframe tbody tr th {\n",
              "        vertical-align: top;\n",
              "    }\n",
              "\n",
              "    .dataframe thead th {\n",
              "        text-align: right;\n",
              "    }\n",
              "</style>\n",
              "<table border=\"1\" class=\"dataframe\">\n",
              "  <thead>\n",
              "    <tr style=\"text-align: right;\">\n",
              "      <th></th>\n",
              "      <th>Total</th>\n",
              "      <th>Percent</th>\n",
              "    </tr>\n",
              "  </thead>\n",
              "  <tbody>\n",
              "    <tr>\n",
              "      <th>passenger_count</th>\n",
              "      <td>0</td>\n",
              "      <td>0.0</td>\n",
              "    </tr>\n",
              "    <tr>\n",
              "      <th>dropoff_latitude</th>\n",
              "      <td>0</td>\n",
              "      <td>0.0</td>\n",
              "    </tr>\n",
              "    <tr>\n",
              "      <th>dropoff_longitude</th>\n",
              "      <td>0</td>\n",
              "      <td>0.0</td>\n",
              "    </tr>\n",
              "    <tr>\n",
              "      <th>pickup_latitude</th>\n",
              "      <td>0</td>\n",
              "      <td>0.0</td>\n",
              "    </tr>\n",
              "    <tr>\n",
              "      <th>pickup_longitude</th>\n",
              "      <td>0</td>\n",
              "      <td>0.0</td>\n",
              "    </tr>\n",
              "    <tr>\n",
              "      <th>pickup_datetime</th>\n",
              "      <td>0</td>\n",
              "      <td>0.0</td>\n",
              "    </tr>\n",
              "    <tr>\n",
              "      <th>key</th>\n",
              "      <td>0</td>\n",
              "      <td>0.0</td>\n",
              "    </tr>\n",
              "  </tbody>\n",
              "</table>\n",
              "</div>"
            ],
            "text/plain": [
              "                   Total  Percent\n",
              "passenger_count        0      0.0\n",
              "dropoff_latitude       0      0.0\n",
              "dropoff_longitude      0      0.0\n",
              "pickup_latitude        0      0.0\n",
              "pickup_longitude       0      0.0\n",
              "pickup_datetime        0      0.0\n",
              "key                    0      0.0"
            ]
          },
          "metadata": {
            "tags": []
          },
          "execution_count": 13
        }
      ]
    },
    {
      "cell_type": "markdown",
      "metadata": {
        "id": "ftVYPGXVZnUQ"
      },
      "source": [
        "There are no missing value in both of train and test data."
      ]
    },
    {
      "cell_type": "markdown",
      "metadata": {
        "id": "pofgNtAeaJ3D"
      },
      "source": [
        "# Check data summary"
      ]
    },
    {
      "cell_type": "code",
      "metadata": {
        "colab": {
          "base_uri": "https://localhost:8080/",
          "height": 306
        },
        "id": "lcyT7rt-aN2q",
        "outputId": "2cfb8afb-de27-44eb-e2f3-caf8ff522650"
      },
      "source": [
        "from scipy import stats\r\n",
        "def resumetable(df):\r\n",
        "    print(f\"Dataset Shape: {df.shape}\")\r\n",
        "    summary = pd.DataFrame(df.dtypes,columns=['dtypes'])\r\n",
        "    summary = summary.reset_index()\r\n",
        "    summary['Name'] = summary['index']\r\n",
        "    summary = summary[['Name','dtypes']]\r\n",
        "    summary['Missing'] = df.isnull().sum().values    \r\n",
        "    summary['Uniques'] = df.nunique().values\r\n",
        "    summary['First Value'] = df.loc[0].values\r\n",
        "    summary['Second Value'] = df.loc[1].values\r\n",
        "    summary['Third Value'] = df.loc[2].values\r\n",
        "\r\n",
        "    for name in summary['Name'].value_counts().index:\r\n",
        "        summary.loc[summary['Name'] == name, 'Entropy'] = round(stats.entropy(df[name].value_counts(normalize=True), base=2),2) \r\n",
        "\r\n",
        "    return summary\r\n",
        "\r\n",
        "resumetable(train)[:25]"
      ],
      "execution_count": 14,
      "outputs": [
        {
          "output_type": "stream",
          "text": [
            "Dataset Shape: (5999961, 8)\n"
          ],
          "name": "stdout"
        },
        {
          "output_type": "execute_result",
          "data": {
            "text/html": [
              "<div>\n",
              "<style scoped>\n",
              "    .dataframe tbody tr th:only-of-type {\n",
              "        vertical-align: middle;\n",
              "    }\n",
              "\n",
              "    .dataframe tbody tr th {\n",
              "        vertical-align: top;\n",
              "    }\n",
              "\n",
              "    .dataframe thead th {\n",
              "        text-align: right;\n",
              "    }\n",
              "</style>\n",
              "<table border=\"1\" class=\"dataframe\">\n",
              "  <thead>\n",
              "    <tr style=\"text-align: right;\">\n",
              "      <th></th>\n",
              "      <th>Name</th>\n",
              "      <th>dtypes</th>\n",
              "      <th>Missing</th>\n",
              "      <th>Uniques</th>\n",
              "      <th>First Value</th>\n",
              "      <th>Second Value</th>\n",
              "      <th>Third Value</th>\n",
              "      <th>Entropy</th>\n",
              "    </tr>\n",
              "  </thead>\n",
              "  <tbody>\n",
              "    <tr>\n",
              "      <th>0</th>\n",
              "      <td>key</td>\n",
              "      <td>object</td>\n",
              "      <td>0</td>\n",
              "      <td>5999961</td>\n",
              "      <td>2009-06-15 17:26:21.0000001</td>\n",
              "      <td>2010-01-05 16:52:16.0000002</td>\n",
              "      <td>2011-08-18 00:35:00.00000049</td>\n",
              "      <td>22.52</td>\n",
              "    </tr>\n",
              "    <tr>\n",
              "      <th>1</th>\n",
              "      <td>fare_amount</td>\n",
              "      <td>float64</td>\n",
              "      <td>0</td>\n",
              "      <td>4339</td>\n",
              "      <td>4.5</td>\n",
              "      <td>16.9</td>\n",
              "      <td>5.7</td>\n",
              "      <td>6.45</td>\n",
              "    </tr>\n",
              "    <tr>\n",
              "      <th>2</th>\n",
              "      <td>pickup_datetime</td>\n",
              "      <td>object</td>\n",
              "      <td>0</td>\n",
              "      <td>4281413</td>\n",
              "      <td>2009-06-15 17:26:21 UTC</td>\n",
              "      <td>2010-01-05 16:52:16 UTC</td>\n",
              "      <td>2011-08-18 00:35:00 UTC</td>\n",
              "      <td>21.78</td>\n",
              "    </tr>\n",
              "    <tr>\n",
              "      <th>3</th>\n",
              "      <td>pickup_longitude</td>\n",
              "      <td>float64</td>\n",
              "      <td>0</td>\n",
              "      <td>181855</td>\n",
              "      <td>-73.8443</td>\n",
              "      <td>-74.016</td>\n",
              "      <td>-73.9827</td>\n",
              "      <td>16.02</td>\n",
              "    </tr>\n",
              "    <tr>\n",
              "      <th>4</th>\n",
              "      <td>pickup_latitude</td>\n",
              "      <td>float64</td>\n",
              "      <td>0</td>\n",
              "      <td>216211</td>\n",
              "      <td>40.7213</td>\n",
              "      <td>40.7113</td>\n",
              "      <td>40.7613</td>\n",
              "      <td>16.40</td>\n",
              "    </tr>\n",
              "    <tr>\n",
              "      <th>5</th>\n",
              "      <td>dropoff_longitude</td>\n",
              "      <td>float64</td>\n",
              "      <td>0</td>\n",
              "      <td>234752</td>\n",
              "      <td>-73.8416</td>\n",
              "      <td>-73.9793</td>\n",
              "      <td>-73.9912</td>\n",
              "      <td>16.21</td>\n",
              "    </tr>\n",
              "    <tr>\n",
              "      <th>6</th>\n",
              "      <td>dropoff_latitude</td>\n",
              "      <td>float64</td>\n",
              "      <td>0</td>\n",
              "      <td>281453</td>\n",
              "      <td>40.7123</td>\n",
              "      <td>40.782</td>\n",
              "      <td>40.7506</td>\n",
              "      <td>16.63</td>\n",
              "    </tr>\n",
              "    <tr>\n",
              "      <th>7</th>\n",
              "      <td>passenger_count</td>\n",
              "      <td>int64</td>\n",
              "      <td>0</td>\n",
              "      <td>12</td>\n",
              "      <td>1</td>\n",
              "      <td>1</td>\n",
              "      <td>2</td>\n",
              "      <td>1.51</td>\n",
              "    </tr>\n",
              "  </tbody>\n",
              "</table>\n",
              "</div>"
            ],
            "text/plain": [
              "                Name   dtypes  Missing  Uniques                  First Value  \\\n",
              "0                key   object        0  5999961  2009-06-15 17:26:21.0000001   \n",
              "1        fare_amount  float64        0     4339                          4.5   \n",
              "2    pickup_datetime   object        0  4281413      2009-06-15 17:26:21 UTC   \n",
              "3   pickup_longitude  float64        0   181855                     -73.8443   \n",
              "4    pickup_latitude  float64        0   216211                      40.7213   \n",
              "5  dropoff_longitude  float64        0   234752                     -73.8416   \n",
              "6   dropoff_latitude  float64        0   281453                      40.7123   \n",
              "7    passenger_count    int64        0       12                            1   \n",
              "\n",
              "                  Second Value                   Third Value  Entropy  \n",
              "0  2010-01-05 16:52:16.0000002  2011-08-18 00:35:00.00000049    22.52  \n",
              "1                         16.9                           5.7     6.45  \n",
              "2      2010-01-05 16:52:16 UTC       2011-08-18 00:35:00 UTC    21.78  \n",
              "3                      -74.016                      -73.9827    16.02  \n",
              "4                      40.7113                       40.7613    16.40  \n",
              "5                     -73.9793                      -73.9912    16.21  \n",
              "6                       40.782                       40.7506    16.63  \n",
              "7                            1                             2     1.51  "
            ]
          },
          "metadata": {
            "tags": []
          },
          "execution_count": 14
        }
      ]
    },
    {
      "cell_type": "code",
      "metadata": {
        "colab": {
          "base_uri": "https://localhost:8080/",
          "height": 288
        },
        "id": "Kgtl9grMBDcE",
        "outputId": "aed2eee4-b80e-4441-ac2a-2850aa0ed10d"
      },
      "source": [
        "train.describe()"
      ],
      "execution_count": 15,
      "outputs": [
        {
          "output_type": "execute_result",
          "data": {
            "text/html": [
              "<div>\n",
              "<style scoped>\n",
              "    .dataframe tbody tr th:only-of-type {\n",
              "        vertical-align: middle;\n",
              "    }\n",
              "\n",
              "    .dataframe tbody tr th {\n",
              "        vertical-align: top;\n",
              "    }\n",
              "\n",
              "    .dataframe thead th {\n",
              "        text-align: right;\n",
              "    }\n",
              "</style>\n",
              "<table border=\"1\" class=\"dataframe\">\n",
              "  <thead>\n",
              "    <tr style=\"text-align: right;\">\n",
              "      <th></th>\n",
              "      <th>fare_amount</th>\n",
              "      <th>pickup_longitude</th>\n",
              "      <th>pickup_latitude</th>\n",
              "      <th>dropoff_longitude</th>\n",
              "      <th>dropoff_latitude</th>\n",
              "      <th>passenger_count</th>\n",
              "    </tr>\n",
              "  </thead>\n",
              "  <tbody>\n",
              "    <tr>\n",
              "      <th>count</th>\n",
              "      <td>5.999961e+06</td>\n",
              "      <td>5.999961e+06</td>\n",
              "      <td>5.999961e+06</td>\n",
              "      <td>5.999961e+06</td>\n",
              "      <td>5.999961e+06</td>\n",
              "      <td>5.999961e+06</td>\n",
              "    </tr>\n",
              "    <tr>\n",
              "      <th>mean</th>\n",
              "      <td>1.134044e+01</td>\n",
              "      <td>-7.251148e+01</td>\n",
              "      <td>3.992409e+01</td>\n",
              "      <td>-7.251060e+01</td>\n",
              "      <td>3.992049e+01</td>\n",
              "      <td>1.684656e+00</td>\n",
              "    </tr>\n",
              "    <tr>\n",
              "      <th>std</th>\n",
              "      <td>9.810895e+00</td>\n",
              "      <td>1.280223e+01</td>\n",
              "      <td>9.022769e+00</td>\n",
              "      <td>1.285400e+01</td>\n",
              "      <td>9.367604e+00</td>\n",
              "      <td>1.327791e+00</td>\n",
              "    </tr>\n",
              "    <tr>\n",
              "      <th>min</th>\n",
              "      <td>-1.000000e+02</td>\n",
              "      <td>-3.426609e+03</td>\n",
              "      <td>-3.488080e+03</td>\n",
              "      <td>-3.412653e+03</td>\n",
              "      <td>-3.488080e+03</td>\n",
              "      <td>0.000000e+00</td>\n",
              "    </tr>\n",
              "    <tr>\n",
              "      <th>25%</th>\n",
              "      <td>6.000000e+00</td>\n",
              "      <td>-7.399207e+01</td>\n",
              "      <td>4.073491e+01</td>\n",
              "      <td>-7.399139e+01</td>\n",
              "      <td>4.073404e+01</td>\n",
              "      <td>1.000000e+00</td>\n",
              "    </tr>\n",
              "    <tr>\n",
              "      <th>50%</th>\n",
              "      <td>8.500000e+00</td>\n",
              "      <td>-7.398182e+01</td>\n",
              "      <td>4.075263e+01</td>\n",
              "      <td>-7.398016e+01</td>\n",
              "      <td>4.075316e+01</td>\n",
              "      <td>1.000000e+00</td>\n",
              "    </tr>\n",
              "    <tr>\n",
              "      <th>75%</th>\n",
              "      <td>1.250000e+01</td>\n",
              "      <td>-7.396711e+01</td>\n",
              "      <td>4.076712e+01</td>\n",
              "      <td>-7.396367e+01</td>\n",
              "      <td>4.076811e+01</td>\n",
              "      <td>2.000000e+00</td>\n",
              "    </tr>\n",
              "    <tr>\n",
              "      <th>max</th>\n",
              "      <td>1.273310e+03</td>\n",
              "      <td>3.439426e+03</td>\n",
              "      <td>3.344459e+03</td>\n",
              "      <td>3.457622e+03</td>\n",
              "      <td>3.345917e+03</td>\n",
              "      <td>2.080000e+02</td>\n",
              "    </tr>\n",
              "  </tbody>\n",
              "</table>\n",
              "</div>"
            ],
            "text/plain": [
              "        fare_amount  pickup_longitude  pickup_latitude  dropoff_longitude  \\\n",
              "count  5.999961e+06      5.999961e+06     5.999961e+06       5.999961e+06   \n",
              "mean   1.134044e+01     -7.251148e+01     3.992409e+01      -7.251060e+01   \n",
              "std    9.810895e+00      1.280223e+01     9.022769e+00       1.285400e+01   \n",
              "min   -1.000000e+02     -3.426609e+03    -3.488080e+03      -3.412653e+03   \n",
              "25%    6.000000e+00     -7.399207e+01     4.073491e+01      -7.399139e+01   \n",
              "50%    8.500000e+00     -7.398182e+01     4.075263e+01      -7.398016e+01   \n",
              "75%    1.250000e+01     -7.396711e+01     4.076712e+01      -7.396367e+01   \n",
              "max    1.273310e+03      3.439426e+03     3.344459e+03       3.457622e+03   \n",
              "\n",
              "       dropoff_latitude  passenger_count  \n",
              "count      5.999961e+06     5.999961e+06  \n",
              "mean       3.992049e+01     1.684656e+00  \n",
              "std        9.367604e+00     1.327791e+00  \n",
              "min       -3.488080e+03     0.000000e+00  \n",
              "25%        4.073404e+01     1.000000e+00  \n",
              "50%        4.075316e+01     1.000000e+00  \n",
              "75%        4.076811e+01     2.000000e+00  \n",
              "max        3.345917e+03     2.080000e+02  "
            ]
          },
          "metadata": {
            "tags": []
          },
          "execution_count": 15
        }
      ]
    },
    {
      "cell_type": "markdown",
      "metadata": {
        "id": "nXlpWNV-Bwq-"
      },
      "source": [
        "There are minus value in fare_amount, so need to remove minus values."
      ]
    },
    {
      "cell_type": "code",
      "metadata": {
        "colab": {
          "base_uri": "https://localhost:8080/",
          "height": 198
        },
        "id": "_87witcMB6nk",
        "outputId": "fc9fbc87-e6d7-4c73-f5b2-ec77b293fc7b"
      },
      "source": [
        "train = train[train['fare_amount'] > 0 ]\r\n",
        "train.reset_index(drop=True).head()"
      ],
      "execution_count": 16,
      "outputs": [
        {
          "output_type": "execute_result",
          "data": {
            "text/html": [
              "<div>\n",
              "<style scoped>\n",
              "    .dataframe tbody tr th:only-of-type {\n",
              "        vertical-align: middle;\n",
              "    }\n",
              "\n",
              "    .dataframe tbody tr th {\n",
              "        vertical-align: top;\n",
              "    }\n",
              "\n",
              "    .dataframe thead th {\n",
              "        text-align: right;\n",
              "    }\n",
              "</style>\n",
              "<table border=\"1\" class=\"dataframe\">\n",
              "  <thead>\n",
              "    <tr style=\"text-align: right;\">\n",
              "      <th></th>\n",
              "      <th>key</th>\n",
              "      <th>fare_amount</th>\n",
              "      <th>pickup_datetime</th>\n",
              "      <th>pickup_longitude</th>\n",
              "      <th>pickup_latitude</th>\n",
              "      <th>dropoff_longitude</th>\n",
              "      <th>dropoff_latitude</th>\n",
              "      <th>passenger_count</th>\n",
              "    </tr>\n",
              "  </thead>\n",
              "  <tbody>\n",
              "    <tr>\n",
              "      <th>0</th>\n",
              "      <td>2009-06-15 17:26:21.0000001</td>\n",
              "      <td>4.5</td>\n",
              "      <td>2009-06-15 17:26:21 UTC</td>\n",
              "      <td>-73.844311</td>\n",
              "      <td>40.721319</td>\n",
              "      <td>-73.841610</td>\n",
              "      <td>40.712278</td>\n",
              "      <td>1</td>\n",
              "    </tr>\n",
              "    <tr>\n",
              "      <th>1</th>\n",
              "      <td>2010-01-05 16:52:16.0000002</td>\n",
              "      <td>16.9</td>\n",
              "      <td>2010-01-05 16:52:16 UTC</td>\n",
              "      <td>-74.016048</td>\n",
              "      <td>40.711303</td>\n",
              "      <td>-73.979268</td>\n",
              "      <td>40.782004</td>\n",
              "      <td>1</td>\n",
              "    </tr>\n",
              "    <tr>\n",
              "      <th>2</th>\n",
              "      <td>2011-08-18 00:35:00.00000049</td>\n",
              "      <td>5.7</td>\n",
              "      <td>2011-08-18 00:35:00 UTC</td>\n",
              "      <td>-73.982738</td>\n",
              "      <td>40.761270</td>\n",
              "      <td>-73.991242</td>\n",
              "      <td>40.750562</td>\n",
              "      <td>2</td>\n",
              "    </tr>\n",
              "    <tr>\n",
              "      <th>3</th>\n",
              "      <td>2012-04-21 04:30:42.0000001</td>\n",
              "      <td>7.7</td>\n",
              "      <td>2012-04-21 04:30:42 UTC</td>\n",
              "      <td>-73.987130</td>\n",
              "      <td>40.733143</td>\n",
              "      <td>-73.991567</td>\n",
              "      <td>40.758092</td>\n",
              "      <td>1</td>\n",
              "    </tr>\n",
              "    <tr>\n",
              "      <th>4</th>\n",
              "      <td>2010-03-09 07:51:00.000000135</td>\n",
              "      <td>5.3</td>\n",
              "      <td>2010-03-09 07:51:00 UTC</td>\n",
              "      <td>-73.968095</td>\n",
              "      <td>40.768008</td>\n",
              "      <td>-73.956655</td>\n",
              "      <td>40.783762</td>\n",
              "      <td>1</td>\n",
              "    </tr>\n",
              "  </tbody>\n",
              "</table>\n",
              "</div>"
            ],
            "text/plain": [
              "                             key  fare_amount          pickup_datetime  \\\n",
              "0    2009-06-15 17:26:21.0000001          4.5  2009-06-15 17:26:21 UTC   \n",
              "1    2010-01-05 16:52:16.0000002         16.9  2010-01-05 16:52:16 UTC   \n",
              "2   2011-08-18 00:35:00.00000049          5.7  2011-08-18 00:35:00 UTC   \n",
              "3    2012-04-21 04:30:42.0000001          7.7  2012-04-21 04:30:42 UTC   \n",
              "4  2010-03-09 07:51:00.000000135          5.3  2010-03-09 07:51:00 UTC   \n",
              "\n",
              "   pickup_longitude  pickup_latitude  dropoff_longitude  dropoff_latitude  \\\n",
              "0        -73.844311        40.721319         -73.841610         40.712278   \n",
              "1        -74.016048        40.711303         -73.979268         40.782004   \n",
              "2        -73.982738        40.761270         -73.991242         40.750562   \n",
              "3        -73.987130        40.733143         -73.991567         40.758092   \n",
              "4        -73.968095        40.768008         -73.956655         40.783762   \n",
              "\n",
              "   passenger_count  \n",
              "0                1  \n",
              "1                1  \n",
              "2                2  \n",
              "3                1  \n",
              "4                1  "
            ]
          },
          "metadata": {
            "tags": []
          },
          "execution_count": 16
        }
      ]
    },
    {
      "cell_type": "code",
      "metadata": {
        "colab": {
          "base_uri": "https://localhost:8080/"
        },
        "id": "AzX02egPCWc3",
        "outputId": "03f2dc24-0f98-48db-d71c-a4ed2e8a5ad9"
      },
      "source": [
        "train.shape"
      ],
      "execution_count": 17,
      "outputs": [
        {
          "output_type": "execute_result",
          "data": {
            "text/plain": [
              "(5999539, 8)"
            ]
          },
          "metadata": {
            "tags": []
          },
          "execution_count": 17
        }
      ]
    },
    {
      "cell_type": "markdown",
      "metadata": {
        "id": "PSygt6pMCYhH"
      },
      "source": [
        "Also, there are some incorrect value on passenger_count like 0, 200.\r\n",
        "\r\n",
        "So, need to remove these outlier over 7 and under 1."
      ]
    },
    {
      "cell_type": "code",
      "metadata": {
        "colab": {
          "base_uri": "https://localhost:8080/",
          "height": 198
        },
        "id": "qZBnIluACh8W",
        "outputId": "470a2667-ef40-403b-a918-682f606802e4"
      },
      "source": [
        "train = train[train['passenger_count'] > 0 ]\r\n",
        "train = train[train['passenger_count'] < 7 ]\r\n",
        "train.reset_index(drop=True).head()"
      ],
      "execution_count": 18,
      "outputs": [
        {
          "output_type": "execute_result",
          "data": {
            "text/html": [
              "<div>\n",
              "<style scoped>\n",
              "    .dataframe tbody tr th:only-of-type {\n",
              "        vertical-align: middle;\n",
              "    }\n",
              "\n",
              "    .dataframe tbody tr th {\n",
              "        vertical-align: top;\n",
              "    }\n",
              "\n",
              "    .dataframe thead th {\n",
              "        text-align: right;\n",
              "    }\n",
              "</style>\n",
              "<table border=\"1\" class=\"dataframe\">\n",
              "  <thead>\n",
              "    <tr style=\"text-align: right;\">\n",
              "      <th></th>\n",
              "      <th>key</th>\n",
              "      <th>fare_amount</th>\n",
              "      <th>pickup_datetime</th>\n",
              "      <th>pickup_longitude</th>\n",
              "      <th>pickup_latitude</th>\n",
              "      <th>dropoff_longitude</th>\n",
              "      <th>dropoff_latitude</th>\n",
              "      <th>passenger_count</th>\n",
              "    </tr>\n",
              "  </thead>\n",
              "  <tbody>\n",
              "    <tr>\n",
              "      <th>0</th>\n",
              "      <td>2009-06-15 17:26:21.0000001</td>\n",
              "      <td>4.5</td>\n",
              "      <td>2009-06-15 17:26:21 UTC</td>\n",
              "      <td>-73.844311</td>\n",
              "      <td>40.721319</td>\n",
              "      <td>-73.841610</td>\n",
              "      <td>40.712278</td>\n",
              "      <td>1</td>\n",
              "    </tr>\n",
              "    <tr>\n",
              "      <th>1</th>\n",
              "      <td>2010-01-05 16:52:16.0000002</td>\n",
              "      <td>16.9</td>\n",
              "      <td>2010-01-05 16:52:16 UTC</td>\n",
              "      <td>-74.016048</td>\n",
              "      <td>40.711303</td>\n",
              "      <td>-73.979268</td>\n",
              "      <td>40.782004</td>\n",
              "      <td>1</td>\n",
              "    </tr>\n",
              "    <tr>\n",
              "      <th>2</th>\n",
              "      <td>2011-08-18 00:35:00.00000049</td>\n",
              "      <td>5.7</td>\n",
              "      <td>2011-08-18 00:35:00 UTC</td>\n",
              "      <td>-73.982738</td>\n",
              "      <td>40.761270</td>\n",
              "      <td>-73.991242</td>\n",
              "      <td>40.750562</td>\n",
              "      <td>2</td>\n",
              "    </tr>\n",
              "    <tr>\n",
              "      <th>3</th>\n",
              "      <td>2012-04-21 04:30:42.0000001</td>\n",
              "      <td>7.7</td>\n",
              "      <td>2012-04-21 04:30:42 UTC</td>\n",
              "      <td>-73.987130</td>\n",
              "      <td>40.733143</td>\n",
              "      <td>-73.991567</td>\n",
              "      <td>40.758092</td>\n",
              "      <td>1</td>\n",
              "    </tr>\n",
              "    <tr>\n",
              "      <th>4</th>\n",
              "      <td>2010-03-09 07:51:00.000000135</td>\n",
              "      <td>5.3</td>\n",
              "      <td>2010-03-09 07:51:00 UTC</td>\n",
              "      <td>-73.968095</td>\n",
              "      <td>40.768008</td>\n",
              "      <td>-73.956655</td>\n",
              "      <td>40.783762</td>\n",
              "      <td>1</td>\n",
              "    </tr>\n",
              "  </tbody>\n",
              "</table>\n",
              "</div>"
            ],
            "text/plain": [
              "                             key  fare_amount          pickup_datetime  \\\n",
              "0    2009-06-15 17:26:21.0000001          4.5  2009-06-15 17:26:21 UTC   \n",
              "1    2010-01-05 16:52:16.0000002         16.9  2010-01-05 16:52:16 UTC   \n",
              "2   2011-08-18 00:35:00.00000049          5.7  2011-08-18 00:35:00 UTC   \n",
              "3    2012-04-21 04:30:42.0000001          7.7  2012-04-21 04:30:42 UTC   \n",
              "4  2010-03-09 07:51:00.000000135          5.3  2010-03-09 07:51:00 UTC   \n",
              "\n",
              "   pickup_longitude  pickup_latitude  dropoff_longitude  dropoff_latitude  \\\n",
              "0        -73.844311        40.721319         -73.841610         40.712278   \n",
              "1        -74.016048        40.711303         -73.979268         40.782004   \n",
              "2        -73.982738        40.761270         -73.991242         40.750562   \n",
              "3        -73.987130        40.733143         -73.991567         40.758092   \n",
              "4        -73.968095        40.768008         -73.956655         40.783762   \n",
              "\n",
              "   passenger_count  \n",
              "0                1  \n",
              "1                1  \n",
              "2                2  \n",
              "3                1  \n",
              "4                1  "
            ]
          },
          "metadata": {
            "tags": []
          },
          "execution_count": 18
        }
      ]
    },
    {
      "cell_type": "code",
      "metadata": {
        "colab": {
          "base_uri": "https://localhost:8080/",
          "height": 288
        },
        "id": "brJ2R2DRCuAh",
        "outputId": "9cfa2bff-e943-43d7-d1cb-87d2d45ccf42"
      },
      "source": [
        "train.describe()"
      ],
      "execution_count": 19,
      "outputs": [
        {
          "output_type": "execute_result",
          "data": {
            "text/html": [
              "<div>\n",
              "<style scoped>\n",
              "    .dataframe tbody tr th:only-of-type {\n",
              "        vertical-align: middle;\n",
              "    }\n",
              "\n",
              "    .dataframe tbody tr th {\n",
              "        vertical-align: top;\n",
              "    }\n",
              "\n",
              "    .dataframe thead th {\n",
              "        text-align: right;\n",
              "    }\n",
              "</style>\n",
              "<table border=\"1\" class=\"dataframe\">\n",
              "  <thead>\n",
              "    <tr style=\"text-align: right;\">\n",
              "      <th></th>\n",
              "      <th>fare_amount</th>\n",
              "      <th>pickup_longitude</th>\n",
              "      <th>pickup_latitude</th>\n",
              "      <th>dropoff_longitude</th>\n",
              "      <th>dropoff_latitude</th>\n",
              "      <th>passenger_count</th>\n",
              "    </tr>\n",
              "  </thead>\n",
              "  <tbody>\n",
              "    <tr>\n",
              "      <th>count</th>\n",
              "      <td>5.978354e+06</td>\n",
              "      <td>5.978354e+06</td>\n",
              "      <td>5.978354e+06</td>\n",
              "      <td>5.978354e+06</td>\n",
              "      <td>5.978354e+06</td>\n",
              "      <td>5.978354e+06</td>\n",
              "    </tr>\n",
              "    <tr>\n",
              "      <th>mean</th>\n",
              "      <td>1.134982e+01</td>\n",
              "      <td>-7.251113e+01</td>\n",
              "      <td>3.992382e+01</td>\n",
              "      <td>-7.251046e+01</td>\n",
              "      <td>3.992051e+01</td>\n",
              "      <td>1.690349e+00</td>\n",
              "    </tr>\n",
              "    <tr>\n",
              "      <th>std</th>\n",
              "      <td>9.818846e+00</td>\n",
              "      <td>1.281132e+01</td>\n",
              "      <td>9.033023e+00</td>\n",
              "      <td>1.283578e+01</td>\n",
              "      <td>9.378077e+00</td>\n",
              "      <td>1.306225e+00</td>\n",
              "    </tr>\n",
              "    <tr>\n",
              "      <th>min</th>\n",
              "      <td>1.000000e-02</td>\n",
              "      <td>-3.426609e+03</td>\n",
              "      <td>-3.488080e+03</td>\n",
              "      <td>-3.412653e+03</td>\n",
              "      <td>-3.488080e+03</td>\n",
              "      <td>1.000000e+00</td>\n",
              "    </tr>\n",
              "    <tr>\n",
              "      <th>25%</th>\n",
              "      <td>6.000000e+00</td>\n",
              "      <td>-7.399207e+01</td>\n",
              "      <td>4.073491e+01</td>\n",
              "      <td>-7.399139e+01</td>\n",
              "      <td>4.073404e+01</td>\n",
              "      <td>1.000000e+00</td>\n",
              "    </tr>\n",
              "    <tr>\n",
              "      <th>50%</th>\n",
              "      <td>8.500000e+00</td>\n",
              "      <td>-7.398182e+01</td>\n",
              "      <td>4.075263e+01</td>\n",
              "      <td>-7.398016e+01</td>\n",
              "      <td>4.075316e+01</td>\n",
              "      <td>1.000000e+00</td>\n",
              "    </tr>\n",
              "    <tr>\n",
              "      <th>75%</th>\n",
              "      <td>1.250000e+01</td>\n",
              "      <td>-7.396711e+01</td>\n",
              "      <td>4.076711e+01</td>\n",
              "      <td>-7.396367e+01</td>\n",
              "      <td>4.076811e+01</td>\n",
              "      <td>2.000000e+00</td>\n",
              "    </tr>\n",
              "    <tr>\n",
              "      <th>max</th>\n",
              "      <td>1.273310e+03</td>\n",
              "      <td>3.439426e+03</td>\n",
              "      <td>3.344459e+03</td>\n",
              "      <td>3.457622e+03</td>\n",
              "      <td>3.345917e+03</td>\n",
              "      <td>6.000000e+00</td>\n",
              "    </tr>\n",
              "  </tbody>\n",
              "</table>\n",
              "</div>"
            ],
            "text/plain": [
              "        fare_amount  pickup_longitude  pickup_latitude  dropoff_longitude  \\\n",
              "count  5.978354e+06      5.978354e+06     5.978354e+06       5.978354e+06   \n",
              "mean   1.134982e+01     -7.251113e+01     3.992382e+01      -7.251046e+01   \n",
              "std    9.818846e+00      1.281132e+01     9.033023e+00       1.283578e+01   \n",
              "min    1.000000e-02     -3.426609e+03    -3.488080e+03      -3.412653e+03   \n",
              "25%    6.000000e+00     -7.399207e+01     4.073491e+01      -7.399139e+01   \n",
              "50%    8.500000e+00     -7.398182e+01     4.075263e+01      -7.398016e+01   \n",
              "75%    1.250000e+01     -7.396711e+01     4.076711e+01      -7.396367e+01   \n",
              "max    1.273310e+03      3.439426e+03     3.344459e+03       3.457622e+03   \n",
              "\n",
              "       dropoff_latitude  passenger_count  \n",
              "count      5.978354e+06     5.978354e+06  \n",
              "mean       3.992051e+01     1.690349e+00  \n",
              "std        9.378077e+00     1.306225e+00  \n",
              "min       -3.488080e+03     1.000000e+00  \n",
              "25%        4.073404e+01     1.000000e+00  \n",
              "50%        4.075316e+01     1.000000e+00  \n",
              "75%        4.076811e+01     2.000000e+00  \n",
              "max        3.345917e+03     6.000000e+00  "
            ]
          },
          "metadata": {
            "tags": []
          },
          "execution_count": 19
        }
      ]
    },
    {
      "cell_type": "code",
      "metadata": {
        "colab": {
          "base_uri": "https://localhost:8080/"
        },
        "id": "8UzAI3alDKfM",
        "outputId": "5f3f6253-8808-406e-c57f-4fa87a4e75ff"
      },
      "source": [
        "train.shape"
      ],
      "execution_count": 20,
      "outputs": [
        {
          "output_type": "execute_result",
          "data": {
            "text/plain": [
              "(5978354, 8)"
            ]
          },
          "metadata": {
            "tags": []
          },
          "execution_count": 20
        }
      ]
    },
    {
      "cell_type": "code",
      "metadata": {
        "colab": {
          "base_uri": "https://localhost:8080/",
          "height": 276
        },
        "id": "FgavZTRDaQn7",
        "outputId": "70a7b814-a770-41c5-eb92-dd762344f282"
      },
      "source": [
        "resumetable(test)[:25]"
      ],
      "execution_count": 21,
      "outputs": [
        {
          "output_type": "stream",
          "text": [
            "Dataset Shape: (9914, 7)\n"
          ],
          "name": "stdout"
        },
        {
          "output_type": "execute_result",
          "data": {
            "text/html": [
              "<div>\n",
              "<style scoped>\n",
              "    .dataframe tbody tr th:only-of-type {\n",
              "        vertical-align: middle;\n",
              "    }\n",
              "\n",
              "    .dataframe tbody tr th {\n",
              "        vertical-align: top;\n",
              "    }\n",
              "\n",
              "    .dataframe thead th {\n",
              "        text-align: right;\n",
              "    }\n",
              "</style>\n",
              "<table border=\"1\" class=\"dataframe\">\n",
              "  <thead>\n",
              "    <tr style=\"text-align: right;\">\n",
              "      <th></th>\n",
              "      <th>Name</th>\n",
              "      <th>dtypes</th>\n",
              "      <th>Missing</th>\n",
              "      <th>Uniques</th>\n",
              "      <th>First Value</th>\n",
              "      <th>Second Value</th>\n",
              "      <th>Third Value</th>\n",
              "      <th>Entropy</th>\n",
              "    </tr>\n",
              "  </thead>\n",
              "  <tbody>\n",
              "    <tr>\n",
              "      <th>0</th>\n",
              "      <td>key</td>\n",
              "      <td>object</td>\n",
              "      <td>0</td>\n",
              "      <td>9914</td>\n",
              "      <td>2015-01-27 13:08:24.0000002</td>\n",
              "      <td>2015-01-27 13:08:24.0000003</td>\n",
              "      <td>2011-10-08 11:53:44.0000002</td>\n",
              "      <td>13.28</td>\n",
              "    </tr>\n",
              "    <tr>\n",
              "      <th>1</th>\n",
              "      <td>pickup_datetime</td>\n",
              "      <td>object</td>\n",
              "      <td>0</td>\n",
              "      <td>1753</td>\n",
              "      <td>2015-01-27 13:08:24 UTC</td>\n",
              "      <td>2015-01-27 13:08:24 UTC</td>\n",
              "      <td>2011-10-08 11:53:44 UTC</td>\n",
              "      <td>8.87</td>\n",
              "    </tr>\n",
              "    <tr>\n",
              "      <th>2</th>\n",
              "      <td>pickup_longitude</td>\n",
              "      <td>float64</td>\n",
              "      <td>0</td>\n",
              "      <td>9125</td>\n",
              "      <td>-73.9733</td>\n",
              "      <td>-73.9869</td>\n",
              "      <td>-73.9825</td>\n",
              "      <td>13.11</td>\n",
              "    </tr>\n",
              "    <tr>\n",
              "      <th>3</th>\n",
              "      <td>pickup_latitude</td>\n",
              "      <td>float64</td>\n",
              "      <td>0</td>\n",
              "      <td>9247</td>\n",
              "      <td>40.7638</td>\n",
              "      <td>40.7194</td>\n",
              "      <td>40.7513</td>\n",
              "      <td>13.14</td>\n",
              "    </tr>\n",
              "    <tr>\n",
              "      <th>4</th>\n",
              "      <td>dropoff_longitude</td>\n",
              "      <td>float64</td>\n",
              "      <td>0</td>\n",
              "      <td>9142</td>\n",
              "      <td>-73.9814</td>\n",
              "      <td>-73.9989</td>\n",
              "      <td>-73.9797</td>\n",
              "      <td>13.11</td>\n",
              "    </tr>\n",
              "    <tr>\n",
              "      <th>5</th>\n",
              "      <td>dropoff_latitude</td>\n",
              "      <td>float64</td>\n",
              "      <td>0</td>\n",
              "      <td>9360</td>\n",
              "      <td>40.7438</td>\n",
              "      <td>40.7392</td>\n",
              "      <td>40.7461</td>\n",
              "      <td>13.16</td>\n",
              "    </tr>\n",
              "    <tr>\n",
              "      <th>6</th>\n",
              "      <td>passenger_count</td>\n",
              "      <td>int64</td>\n",
              "      <td>0</td>\n",
              "      <td>6</td>\n",
              "      <td>1</td>\n",
              "      <td>1</td>\n",
              "      <td>1</td>\n",
              "      <td>1.46</td>\n",
              "    </tr>\n",
              "  </tbody>\n",
              "</table>\n",
              "</div>"
            ],
            "text/plain": [
              "                Name   dtypes  Missing  Uniques                  First Value  \\\n",
              "0                key   object        0     9914  2015-01-27 13:08:24.0000002   \n",
              "1    pickup_datetime   object        0     1753      2015-01-27 13:08:24 UTC   \n",
              "2   pickup_longitude  float64        0     9125                     -73.9733   \n",
              "3    pickup_latitude  float64        0     9247                      40.7638   \n",
              "4  dropoff_longitude  float64        0     9142                     -73.9814   \n",
              "5   dropoff_latitude  float64        0     9360                      40.7438   \n",
              "6    passenger_count    int64        0        6                            1   \n",
              "\n",
              "                  Second Value                  Third Value  Entropy  \n",
              "0  2015-01-27 13:08:24.0000003  2011-10-08 11:53:44.0000002    13.28  \n",
              "1      2015-01-27 13:08:24 UTC      2011-10-08 11:53:44 UTC     8.87  \n",
              "2                     -73.9869                     -73.9825    13.11  \n",
              "3                      40.7194                      40.7513    13.14  \n",
              "4                     -73.9989                     -73.9797    13.11  \n",
              "5                      40.7392                      40.7461    13.16  \n",
              "6                            1                            1     1.46  "
            ]
          },
          "metadata": {
            "tags": []
          },
          "execution_count": 21
        }
      ]
    },
    {
      "cell_type": "code",
      "metadata": {
        "colab": {
          "base_uri": "https://localhost:8080/",
          "height": 288
        },
        "id": "SYUtCr2LDNo5",
        "outputId": "bf96d93c-bc06-4535-d2fe-f528be14b28c"
      },
      "source": [
        "test.describe()"
      ],
      "execution_count": 22,
      "outputs": [
        {
          "output_type": "execute_result",
          "data": {
            "text/html": [
              "<div>\n",
              "<style scoped>\n",
              "    .dataframe tbody tr th:only-of-type {\n",
              "        vertical-align: middle;\n",
              "    }\n",
              "\n",
              "    .dataframe tbody tr th {\n",
              "        vertical-align: top;\n",
              "    }\n",
              "\n",
              "    .dataframe thead th {\n",
              "        text-align: right;\n",
              "    }\n",
              "</style>\n",
              "<table border=\"1\" class=\"dataframe\">\n",
              "  <thead>\n",
              "    <tr style=\"text-align: right;\">\n",
              "      <th></th>\n",
              "      <th>pickup_longitude</th>\n",
              "      <th>pickup_latitude</th>\n",
              "      <th>dropoff_longitude</th>\n",
              "      <th>dropoff_latitude</th>\n",
              "      <th>passenger_count</th>\n",
              "    </tr>\n",
              "  </thead>\n",
              "  <tbody>\n",
              "    <tr>\n",
              "      <th>count</th>\n",
              "      <td>9914.000000</td>\n",
              "      <td>9914.000000</td>\n",
              "      <td>9914.000000</td>\n",
              "      <td>9914.000000</td>\n",
              "      <td>9914.000000</td>\n",
              "    </tr>\n",
              "    <tr>\n",
              "      <th>mean</th>\n",
              "      <td>-73.974722</td>\n",
              "      <td>40.751041</td>\n",
              "      <td>-73.973657</td>\n",
              "      <td>40.751743</td>\n",
              "      <td>1.671273</td>\n",
              "    </tr>\n",
              "    <tr>\n",
              "      <th>std</th>\n",
              "      <td>0.042774</td>\n",
              "      <td>0.033541</td>\n",
              "      <td>0.039072</td>\n",
              "      <td>0.035435</td>\n",
              "      <td>1.278747</td>\n",
              "    </tr>\n",
              "    <tr>\n",
              "      <th>min</th>\n",
              "      <td>-74.252193</td>\n",
              "      <td>40.573143</td>\n",
              "      <td>-74.263242</td>\n",
              "      <td>40.568973</td>\n",
              "      <td>1.000000</td>\n",
              "    </tr>\n",
              "    <tr>\n",
              "      <th>25%</th>\n",
              "      <td>-73.992501</td>\n",
              "      <td>40.736125</td>\n",
              "      <td>-73.991247</td>\n",
              "      <td>40.735254</td>\n",
              "      <td>1.000000</td>\n",
              "    </tr>\n",
              "    <tr>\n",
              "      <th>50%</th>\n",
              "      <td>-73.982326</td>\n",
              "      <td>40.753051</td>\n",
              "      <td>-73.980015</td>\n",
              "      <td>40.754065</td>\n",
              "      <td>1.000000</td>\n",
              "    </tr>\n",
              "    <tr>\n",
              "      <th>75%</th>\n",
              "      <td>-73.968013</td>\n",
              "      <td>40.767113</td>\n",
              "      <td>-73.964059</td>\n",
              "      <td>40.768757</td>\n",
              "      <td>2.000000</td>\n",
              "    </tr>\n",
              "    <tr>\n",
              "      <th>max</th>\n",
              "      <td>-72.986532</td>\n",
              "      <td>41.709555</td>\n",
              "      <td>-72.990963</td>\n",
              "      <td>41.696683</td>\n",
              "      <td>6.000000</td>\n",
              "    </tr>\n",
              "  </tbody>\n",
              "</table>\n",
              "</div>"
            ],
            "text/plain": [
              "       pickup_longitude  pickup_latitude  dropoff_longitude  dropoff_latitude  \\\n",
              "count       9914.000000      9914.000000        9914.000000       9914.000000   \n",
              "mean         -73.974722        40.751041         -73.973657         40.751743   \n",
              "std            0.042774         0.033541           0.039072          0.035435   \n",
              "min          -74.252193        40.573143         -74.263242         40.568973   \n",
              "25%          -73.992501        40.736125         -73.991247         40.735254   \n",
              "50%          -73.982326        40.753051         -73.980015         40.754065   \n",
              "75%          -73.968013        40.767113         -73.964059         40.768757   \n",
              "max          -72.986532        41.709555         -72.990963         41.696683   \n",
              "\n",
              "       passenger_count  \n",
              "count      9914.000000  \n",
              "mean          1.671273  \n",
              "std           1.278747  \n",
              "min           1.000000  \n",
              "25%           1.000000  \n",
              "50%           1.000000  \n",
              "75%           2.000000  \n",
              "max           6.000000  "
            ]
          },
          "metadata": {
            "tags": []
          },
          "execution_count": 22
        }
      ]
    },
    {
      "cell_type": "markdown",
      "metadata": {
        "id": "fZU5-bA7V6TV"
      },
      "source": [
        "# EDA"
      ]
    },
    {
      "cell_type": "markdown",
      "metadata": {
        "id": "_wLYu4CiWplY"
      },
      "source": [
        "Let's see the fare distribution."
      ]
    },
    {
      "cell_type": "code",
      "metadata": {
        "colab": {
          "base_uri": "https://localhost:8080/",
          "height": 573
        },
        "id": "APY6_86QY2gb",
        "outputId": "d55838be-22ab-494a-de5b-ac62969903b1"
      },
      "source": [
        "plt.figure(figsize=(12,8))\r\n",
        "sns.distplot( train['fare_amount'],  bins=50, kde=True);\r\n",
        "fig = plt.figure()"
      ],
      "execution_count": 23,
      "outputs": [
        {
          "output_type": "stream",
          "text": [
            "/usr/local/lib/python3.7/dist-packages/seaborn/distributions.py:2557: FutureWarning: `distplot` is a deprecated function and will be removed in a future version. Please adapt your code to use either `displot` (a figure-level function with similar flexibility) or `histplot` (an axes-level function for histograms).\n",
            "  warnings.warn(msg, FutureWarning)\n"
          ],
          "name": "stderr"
        },
        {
          "output_type": "display_data",
          "data": {
            "image/png": "[encoded data removed]",
            "text/plain": [
              "<Figure size 864x576 with 1 Axes>"
            ]
          },
          "metadata": {
            "tags": [],
            "needs_background": "light"
          }
        },
        {
          "output_type": "display_data",
          "data": {
            "text/plain": [
              "<Figure size 432x288 with 0 Axes>"
            ]
          },
          "metadata": {
            "tags": []
          }
        }
      ]
    },
    {
      "cell_type": "markdown",
      "metadata": {
        "id": "w_cCm5jUec-H"
      },
      "source": [
        "Therea re some outlier, so need to remove these value."
      ]
    },
    {
      "cell_type": "code",
      "metadata": {
        "colab": {
          "base_uri": "https://localhost:8080/"
        },
        "id": "M1-lt0sWdwc_",
        "outputId": "0b53003c-bc34-4525-dbdf-ddd7ebafbb67"
      },
      "source": [
        "###上位〇〇%, 下位△△%をulimit/llimitの値に置き換える(外れ値の除去)####################################\r\n",
        "for col in [\"fare_amount\"]:\r\n",
        "    ulimit = np.percentile(train[col].values, 99.5)\r\n",
        "    llimit = np.percentile(train[col].values, 0.5)\r\n",
        "    train[col].iloc[train[col]>ulimit] = ulimit\r\n",
        "    train[col].iloc[train[col]<llimit] = llimit"
      ],
      "execution_count": 24,
      "outputs": [
        {
          "output_type": "stream",
          "text": [
            "/usr/local/lib/python3.7/dist-packages/pandas/core/indexing.py:670: SettingWithCopyWarning: \n",
            "A value is trying to be set on a copy of a slice from a DataFrame\n",
            "\n",
            "See the caveats in the documentation: https://pandas.pydata.org/pandas-docs/stable/user_guide/indexing.html#returning-a-view-versus-a-copy\n",
            "  iloc._setitem_with_indexer(indexer, value)\n"
          ],
          "name": "stderr"
        }
      ]
    },
    {
      "cell_type": "code",
      "metadata": {
        "colab": {
          "base_uri": "https://localhost:8080/"
        },
        "id": "gsEO5g_4d2PQ",
        "outputId": "7185723e-b73f-4064-a491-4bf532f53449"
      },
      "source": [
        "train.shape"
      ],
      "execution_count": 25,
      "outputs": [
        {
          "output_type": "execute_result",
          "data": {
            "text/plain": [
              "(5978354, 8)"
            ]
          },
          "metadata": {
            "tags": []
          },
          "execution_count": 25
        }
      ]
    },
    {
      "cell_type": "code",
      "metadata": {
        "colab": {
          "base_uri": "https://localhost:8080/",
          "height": 573
        },
        "id": "MjpcS1szd6dS",
        "outputId": "7506e757-a60f-4935-99cf-a571b698b729"
      },
      "source": [
        "plt.figure(figsize=(12,8))\r\n",
        "sns.distplot( train['fare_amount'],  bins=50, kde=True);\r\n",
        "fig = plt.figure()"
      ],
      "execution_count": 26,
      "outputs": [
        {
          "output_type": "stream",
          "text": [
            "/usr/local/lib/python3.7/dist-packages/seaborn/distributions.py:2557: FutureWarning: `distplot` is a deprecated function and will be removed in a future version. Please adapt your code to use either `displot` (a figure-level function with similar flexibility) or `histplot` (an axes-level function for histograms).\n",
            "  warnings.warn(msg, FutureWarning)\n"
          ],
          "name": "stderr"
        },
        {
          "output_type": "display_data",
          "data": {
            "image/png": "[encoded data removed]",
            "text/plain": [
              "<Figure size 864x576 with 1 Axes>"
            ]
          },
          "metadata": {
            "tags": [],
            "needs_background": "light"
          }
        },
        {
          "output_type": "display_data",
          "data": {
            "text/plain": [
              "<Figure size 432x288 with 0 Axes>"
            ]
          },
          "metadata": {
            "tags": []
          }
        }
      ]
    },
    {
      "cell_type": "markdown",
      "metadata": {
        "id": "RaeIdg_5YuBa"
      },
      "source": [
        "# Preprocessing for key and datetime."
      ]
    },
    {
      "cell_type": "markdown",
      "metadata": {
        "id": "V1s1Djv-YxFq"
      },
      "source": [
        "Firstly, it seems key value fields are not needed, bacause these value is just ID and timestamp that is included in other variables."
      ]
    },
    {
      "cell_type": "code",
      "metadata": {
        "id": "ES0hcJksYzf8"
      },
      "source": [
        "train = train.drop(['key'], axis = 1)\r\n",
        "test = test.drop(['key'], axis = 1)"
      ],
      "execution_count": 27,
      "outputs": []
    },
    {
      "cell_type": "markdown",
      "metadata": {
        "id": "25vMcKLvgA4E"
      },
      "source": [
        ""
      ]
    },
    {
      "cell_type": "code",
      "metadata": {
        "colab": {
          "base_uri": "https://localhost:8080/",
          "height": 198
        },
        "id": "55fyhNrXW9_I",
        "outputId": "c07a82af-ee8a-492a-a329-a2abed703a05"
      },
      "source": [
        "train.head()"
      ],
      "execution_count": 28,
      "outputs": [
        {
          "output_type": "execute_result",
          "data": {
            "text/html": [
              "<div>\n",
              "<style scoped>\n",
              "    .dataframe tbody tr th:only-of-type {\n",
              "        vertical-align: middle;\n",
              "    }\n",
              "\n",
              "    .dataframe tbody tr th {\n",
              "        vertical-align: top;\n",
              "    }\n",
              "\n",
              "    .dataframe thead th {\n",
              "        text-align: right;\n",
              "    }\n",
              "</style>\n",
              "<table border=\"1\" class=\"dataframe\">\n",
              "  <thead>\n",
              "    <tr style=\"text-align: right;\">\n",
              "      <th></th>\n",
              "      <th>fare_amount</th>\n",
              "      <th>pickup_datetime</th>\n",
              "      <th>pickup_longitude</th>\n",
              "      <th>pickup_latitude</th>\n",
              "      <th>dropoff_longitude</th>\n",
              "      <th>dropoff_latitude</th>\n",
              "      <th>passenger_count</th>\n",
              "    </tr>\n",
              "  </thead>\n",
              "  <tbody>\n",
              "    <tr>\n",
              "      <th>0</th>\n",
              "      <td>4.5</td>\n",
              "      <td>2009-06-15 17:26:21 UTC</td>\n",
              "      <td>-73.844311</td>\n",
              "      <td>40.721319</td>\n",
              "      <td>-73.841610</td>\n",
              "      <td>40.712278</td>\n",
              "      <td>1</td>\n",
              "    </tr>\n",
              "    <tr>\n",
              "      <th>1</th>\n",
              "      <td>16.9</td>\n",
              "      <td>2010-01-05 16:52:16 UTC</td>\n",
              "      <td>-74.016048</td>\n",
              "      <td>40.711303</td>\n",
              "      <td>-73.979268</td>\n",
              "      <td>40.782004</td>\n",
              "      <td>1</td>\n",
              "    </tr>\n",
              "    <tr>\n",
              "      <th>2</th>\n",
              "      <td>5.7</td>\n",
              "      <td>2011-08-18 00:35:00 UTC</td>\n",
              "      <td>-73.982738</td>\n",
              "      <td>40.761270</td>\n",
              "      <td>-73.991242</td>\n",
              "      <td>40.750562</td>\n",
              "      <td>2</td>\n",
              "    </tr>\n",
              "    <tr>\n",
              "      <th>3</th>\n",
              "      <td>7.7</td>\n",
              "      <td>2012-04-21 04:30:42 UTC</td>\n",
              "      <td>-73.987130</td>\n",
              "      <td>40.733143</td>\n",
              "      <td>-73.991567</td>\n",
              "      <td>40.758092</td>\n",
              "      <td>1</td>\n",
              "    </tr>\n",
              "    <tr>\n",
              "      <th>4</th>\n",
              "      <td>5.3</td>\n",
              "      <td>2010-03-09 07:51:00 UTC</td>\n",
              "      <td>-73.968095</td>\n",
              "      <td>40.768008</td>\n",
              "      <td>-73.956655</td>\n",
              "      <td>40.783762</td>\n",
              "      <td>1</td>\n",
              "    </tr>\n",
              "  </tbody>\n",
              "</table>\n",
              "</div>"
            ],
            "text/plain": [
              "   fare_amount          pickup_datetime  pickup_longitude  pickup_latitude  \\\n",
              "0          4.5  2009-06-15 17:26:21 UTC        -73.844311        40.721319   \n",
              "1         16.9  2010-01-05 16:52:16 UTC        -74.016048        40.711303   \n",
              "2          5.7  2011-08-18 00:35:00 UTC        -73.982738        40.761270   \n",
              "3          7.7  2012-04-21 04:30:42 UTC        -73.987130        40.733143   \n",
              "4          5.3  2010-03-09 07:51:00 UTC        -73.968095        40.768008   \n",
              "\n",
              "   dropoff_longitude  dropoff_latitude  passenger_count  \n",
              "0         -73.841610         40.712278                1  \n",
              "1         -73.979268         40.782004                1  \n",
              "2         -73.991242         40.750562                2  \n",
              "3         -73.991567         40.758092                1  \n",
              "4         -73.956655         40.783762                1  "
            ]
          },
          "metadata": {
            "tags": []
          },
          "execution_count": 28
        }
      ]
    },
    {
      "cell_type": "markdown",
      "metadata": {
        "id": "ko0JuOBWgE9p"
      },
      "source": [
        "Split the pickup_datetime into Year, Month, Hour. Day, minute, seconds seems no relation with target value, so we can ignore.\r\n",
        "\r\n",
        "Year, Month : Fare would be changed based on the season.\r\n",
        "\r\n",
        "weekday : Its also can be changed\r\n",
        "\r\n",
        "hour : midnight fare would be exist."
      ]
    },
    {
      "cell_type": "code",
      "metadata": {
        "id": "2hIzutKlgCUM"
      },
      "source": [
        "train[\"pickup_datetime\"] = pd.to_datetime(train[\"pickup_datetime\"])\r\n",
        "train[\"Year\"] = train[\"pickup_datetime\"].apply(lambda x:x.year)\r\n",
        "train[\"Month\"] = train[\"pickup_datetime\"].apply(lambda x:x.month)\r\n",
        "train['weekday'] = train[\"pickup_datetime\"].apply(lambda t: t.weekday())\r\n",
        "train[\"hour\"] = train[\"pickup_datetime\"].apply(lambda x:x.hour)\r\n",
        "train = train.drop(['pickup_datetime'], axis = 1)"
      ],
      "execution_count": 29,
      "outputs": []
    },
    {
      "cell_type": "code",
      "metadata": {
        "colab": {
          "base_uri": "https://localhost:8080/",
          "height": 198
        },
        "id": "IC_YJzHFgSFl",
        "outputId": "bd48cef1-2e27-422d-d1fe-f7c1eb14cb0c"
      },
      "source": [
        "train.head()"
      ],
      "execution_count": 30,
      "outputs": [
        {
          "output_type": "execute_result",
          "data": {
            "text/html": [
              "<div>\n",
              "<style scoped>\n",
              "    .dataframe tbody tr th:only-of-type {\n",
              "        vertical-align: middle;\n",
              "    }\n",
              "\n",
              "    .dataframe tbody tr th {\n",
              "        vertical-align: top;\n",
              "    }\n",
              "\n",
              "    .dataframe thead th {\n",
              "        text-align: right;\n",
              "    }\n",
              "</style>\n",
              "<table border=\"1\" class=\"dataframe\">\n",
              "  <thead>\n",
              "    <tr style=\"text-align: right;\">\n",
              "      <th></th>\n",
              "      <th>fare_amount</th>\n",
              "      <th>pickup_longitude</th>\n",
              "      <th>pickup_latitude</th>\n",
              "      <th>dropoff_longitude</th>\n",
              "      <th>dropoff_latitude</th>\n",
              "      <th>passenger_count</th>\n",
              "      <th>Year</th>\n",
              "      <th>Month</th>\n",
              "      <th>weekday</th>\n",
              "      <th>hour</th>\n",
              "    </tr>\n",
              "  </thead>\n",
              "  <tbody>\n",
              "    <tr>\n",
              "      <th>0</th>\n",
              "      <td>4.5</td>\n",
              "      <td>-73.844311</td>\n",
              "      <td>40.721319</td>\n",
              "      <td>-73.841610</td>\n",
              "      <td>40.712278</td>\n",
              "      <td>1</td>\n",
              "      <td>2009</td>\n",
              "      <td>6</td>\n",
              "      <td>0</td>\n",
              "      <td>17</td>\n",
              "    </tr>\n",
              "    <tr>\n",
              "      <th>1</th>\n",
              "      <td>16.9</td>\n",
              "      <td>-74.016048</td>\n",
              "      <td>40.711303</td>\n",
              "      <td>-73.979268</td>\n",
              "      <td>40.782004</td>\n",
              "      <td>1</td>\n",
              "      <td>2010</td>\n",
              "      <td>1</td>\n",
              "      <td>1</td>\n",
              "      <td>16</td>\n",
              "    </tr>\n",
              "    <tr>\n",
              "      <th>2</th>\n",
              "      <td>5.7</td>\n",
              "      <td>-73.982738</td>\n",
              "      <td>40.761270</td>\n",
              "      <td>-73.991242</td>\n",
              "      <td>40.750562</td>\n",
              "      <td>2</td>\n",
              "      <td>2011</td>\n",
              "      <td>8</td>\n",
              "      <td>3</td>\n",
              "      <td>0</td>\n",
              "    </tr>\n",
              "    <tr>\n",
              "      <th>3</th>\n",
              "      <td>7.7</td>\n",
              "      <td>-73.987130</td>\n",
              "      <td>40.733143</td>\n",
              "      <td>-73.991567</td>\n",
              "      <td>40.758092</td>\n",
              "      <td>1</td>\n",
              "      <td>2012</td>\n",
              "      <td>4</td>\n",
              "      <td>5</td>\n",
              "      <td>4</td>\n",
              "    </tr>\n",
              "    <tr>\n",
              "      <th>4</th>\n",
              "      <td>5.3</td>\n",
              "      <td>-73.968095</td>\n",
              "      <td>40.768008</td>\n",
              "      <td>-73.956655</td>\n",
              "      <td>40.783762</td>\n",
              "      <td>1</td>\n",
              "      <td>2010</td>\n",
              "      <td>3</td>\n",
              "      <td>1</td>\n",
              "      <td>7</td>\n",
              "    </tr>\n",
              "  </tbody>\n",
              "</table>\n",
              "</div>"
            ],
            "text/plain": [
              "   fare_amount  pickup_longitude  pickup_latitude  dropoff_longitude  \\\n",
              "0          4.5        -73.844311        40.721319         -73.841610   \n",
              "1         16.9        -74.016048        40.711303         -73.979268   \n",
              "2          5.7        -73.982738        40.761270         -73.991242   \n",
              "3          7.7        -73.987130        40.733143         -73.991567   \n",
              "4          5.3        -73.968095        40.768008         -73.956655   \n",
              "\n",
              "   dropoff_latitude  passenger_count  Year  Month  weekday  hour  \n",
              "0         40.712278                1  2009      6        0    17  \n",
              "1         40.782004                1  2010      1        1    16  \n",
              "2         40.750562                2  2011      8        3     0  \n",
              "3         40.758092                1  2012      4        5     4  \n",
              "4         40.783762                1  2010      3        1     7  "
            ]
          },
          "metadata": {
            "tags": []
          },
          "execution_count": 30
        }
      ]
    },
    {
      "cell_type": "code",
      "metadata": {
        "id": "nCbt_pz1PXM7"
      },
      "source": [
        "test[\"pickup_datetime\"] = pd.to_datetime(test[\"pickup_datetime\"])\r\n",
        "test[\"Year\"] = test[\"pickup_datetime\"].apply(lambda x:x.year)\r\n",
        "test[\"Month\"] = test[\"pickup_datetime\"].apply(lambda x:x.month)\r\n",
        "test['weekday'] = test[\"pickup_datetime\"].apply(lambda t: t.weekday())\r\n",
        "test[\"hour\"] = test[\"pickup_datetime\"].apply(lambda x:x.hour)\r\n",
        "test = test.drop(['pickup_datetime'], axis = 1)"
      ],
      "execution_count": 31,
      "outputs": []
    },
    {
      "cell_type": "code",
      "metadata": {
        "colab": {
          "base_uri": "https://localhost:8080/",
          "height": 198
        },
        "id": "SYr3iwqhPbG5",
        "outputId": "d74f91aa-e765-4e18-aac0-edb736e2df72"
      },
      "source": [
        "test.head()"
      ],
      "execution_count": 32,
      "outputs": [
        {
          "output_type": "execute_result",
          "data": {
            "text/html": [
              "<div>\n",
              "<style scoped>\n",
              "    .dataframe tbody tr th:only-of-type {\n",
              "        vertical-align: middle;\n",
              "    }\n",
              "\n",
              "    .dataframe tbody tr th {\n",
              "        vertical-align: top;\n",
              "    }\n",
              "\n",
              "    .dataframe thead th {\n",
              "        text-align: right;\n",
              "    }\n",
              "</style>\n",
              "<table border=\"1\" class=\"dataframe\">\n",
              "  <thead>\n",
              "    <tr style=\"text-align: right;\">\n",
              "      <th></th>\n",
              "      <th>pickup_longitude</th>\n",
              "      <th>pickup_latitude</th>\n",
              "      <th>dropoff_longitude</th>\n",
              "      <th>dropoff_latitude</th>\n",
              "      <th>passenger_count</th>\n",
              "      <th>Year</th>\n",
              "      <th>Month</th>\n",
              "      <th>weekday</th>\n",
              "      <th>hour</th>\n",
              "    </tr>\n",
              "  </thead>\n",
              "  <tbody>\n",
              "    <tr>\n",
              "      <th>0</th>\n",
              "      <td>-73.973320</td>\n",
              "      <td>40.763805</td>\n",
              "      <td>-73.981430</td>\n",
              "      <td>40.743835</td>\n",
              "      <td>1</td>\n",
              "      <td>2015</td>\n",
              "      <td>1</td>\n",
              "      <td>1</td>\n",
              "      <td>13</td>\n",
              "    </tr>\n",
              "    <tr>\n",
              "      <th>1</th>\n",
              "      <td>-73.986862</td>\n",
              "      <td>40.719383</td>\n",
              "      <td>-73.998886</td>\n",
              "      <td>40.739201</td>\n",
              "      <td>1</td>\n",
              "      <td>2015</td>\n",
              "      <td>1</td>\n",
              "      <td>1</td>\n",
              "      <td>13</td>\n",
              "    </tr>\n",
              "    <tr>\n",
              "      <th>2</th>\n",
              "      <td>-73.982524</td>\n",
              "      <td>40.751260</td>\n",
              "      <td>-73.979654</td>\n",
              "      <td>40.746139</td>\n",
              "      <td>1</td>\n",
              "      <td>2011</td>\n",
              "      <td>10</td>\n",
              "      <td>5</td>\n",
              "      <td>11</td>\n",
              "    </tr>\n",
              "    <tr>\n",
              "      <th>3</th>\n",
              "      <td>-73.981160</td>\n",
              "      <td>40.767807</td>\n",
              "      <td>-73.990448</td>\n",
              "      <td>40.751635</td>\n",
              "      <td>1</td>\n",
              "      <td>2012</td>\n",
              "      <td>12</td>\n",
              "      <td>5</td>\n",
              "      <td>21</td>\n",
              "    </tr>\n",
              "    <tr>\n",
              "      <th>4</th>\n",
              "      <td>-73.966046</td>\n",
              "      <td>40.789775</td>\n",
              "      <td>-73.988565</td>\n",
              "      <td>40.744427</td>\n",
              "      <td>1</td>\n",
              "      <td>2012</td>\n",
              "      <td>12</td>\n",
              "      <td>5</td>\n",
              "      <td>21</td>\n",
              "    </tr>\n",
              "  </tbody>\n",
              "</table>\n",
              "</div>"
            ],
            "text/plain": [
              "   pickup_longitude  pickup_latitude  dropoff_longitude  dropoff_latitude  \\\n",
              "0        -73.973320        40.763805         -73.981430         40.743835   \n",
              "1        -73.986862        40.719383         -73.998886         40.739201   \n",
              "2        -73.982524        40.751260         -73.979654         40.746139   \n",
              "3        -73.981160        40.767807         -73.990448         40.751635   \n",
              "4        -73.966046        40.789775         -73.988565         40.744427   \n",
              "\n",
              "   passenger_count  Year  Month  weekday  hour  \n",
              "0                1  2015      1        1    13  \n",
              "1                1  2015      1        1    13  \n",
              "2                1  2011     10        5    11  \n",
              "3                1  2012     12        5    21  \n",
              "4                1  2012     12        5    21  "
            ]
          },
          "metadata": {
            "tags": []
          },
          "execution_count": 32
        }
      ]
    },
    {
      "cell_type": "markdown",
      "metadata": {
        "id": "wMp7GzA4jivt"
      },
      "source": [
        "# EDA"
      ]
    },
    {
      "cell_type": "markdown",
      "metadata": {
        "id": "q22KKvCQjayF"
      },
      "source": [
        "Lets see the relationship between target value and other variables."
      ]
    },
    {
      "cell_type": "code",
      "metadata": {
        "colab": {
          "base_uri": "https://localhost:8080/",
          "height": 355
        },
        "id": "N3L9m6PXjskl",
        "outputId": "c967ebce-0f69-4f22-f5c8-6ca145cfe00a"
      },
      "source": [
        "import seaborn as sn\r\n",
        "fig1,ax1 = plt.subplots()\r\n",
        "fig1.set_size_inches(20,5)\r\n",
        "sns.boxplot(data=train,x=\"Year\",y=\"fare_amount\",orient=\"v\",ax=ax1)"
      ],
      "execution_count": 33,
      "outputs": [
        {
          "output_type": "execute_result",
          "data": {
            "text/plain": [
              "<matplotlib.axes._subplots.AxesSubplot at 0x7fc0184f2110>"
            ]
          },
          "metadata": {
            "tags": []
          },
          "execution_count": 33
        },
        {
          "output_type": "display_data",
          "data": {
            "image/png": "[encoded data removed]",
            "text/plain": [
              "<Figure size 1440x360 with 1 Axes>"
            ]
          },
          "metadata": {
            "tags": [],
            "needs_background": "light"
          }
        }
      ]
    },
    {
      "cell_type": "markdown",
      "metadata": {
        "id": "u3ySTW0jj6r4"
      },
      "source": [
        "Fare are getting a bit increased year to year."
      ]
    },
    {
      "cell_type": "code",
      "metadata": {
        "colab": {
          "base_uri": "https://localhost:8080/",
          "height": 355
        },
        "id": "GhjWHiWdkHB-",
        "outputId": "9dc01249-2c46-4050-9997-28fde681c2bc"
      },
      "source": [
        "fig1,ax1 = plt.subplots()\r\n",
        "fig1.set_size_inches(20,5)\r\n",
        "sns.boxplot(data=train,x=\"Month\",y=\"fare_amount\",orient=\"v\",ax=ax1)"
      ],
      "execution_count": 34,
      "outputs": [
        {
          "output_type": "execute_result",
          "data": {
            "text/plain": [
              "<matplotlib.axes._subplots.AxesSubplot at 0x7fbf828dba10>"
            ]
          },
          "metadata": {
            "tags": []
          },
          "execution_count": 34
        },
        {
          "output_type": "display_data",
          "data": {
            "image/png": "[encoded data removed]",
            "text/plain": [
              "<Figure size 1440x360 with 1 Axes>"
            ]
          },
          "metadata": {
            "tags": [],
            "needs_background": "light"
          }
        }
      ]
    },
    {
      "cell_type": "markdown",
      "metadata": {
        "id": "siUPdvd1kkyL"
      },
      "source": [
        "Fare is the same through year."
      ]
    },
    {
      "cell_type": "code",
      "metadata": {
        "colab": {
          "base_uri": "https://localhost:8080/",
          "height": 355
        },
        "id": "GvBnEYMAkdFe",
        "outputId": "2680dc21-9130-4d1a-d7e7-a2e254d8fa4b"
      },
      "source": [
        "fig1,ax1 = plt.subplots()\r\n",
        "fig1.set_size_inches(20,5)\r\n",
        "sns.boxplot(data=train,x=\"weekday\",y=\"fare_amount\",orient=\"v\",ax=ax1)"
      ],
      "execution_count": 35,
      "outputs": [
        {
          "output_type": "execute_result",
          "data": {
            "text/plain": [
              "<matplotlib.axes._subplots.AxesSubplot at 0x7fbf82885390>"
            ]
          },
          "metadata": {
            "tags": []
          },
          "execution_count": 35
        },
        {
          "output_type": "display_data",
          "data": {
            "image/png": "[encoded data removed]",
            "text/plain": [
              "<Figure size 1440x360 with 1 Axes>"
            ]
          },
          "metadata": {
            "tags": [],
            "needs_background": "light"
          }
        }
      ]
    },
    {
      "cell_type": "markdown",
      "metadata": {
        "id": "jBc99-8ckLaZ"
      },
      "source": [
        "Fare is the same through week."
      ]
    },
    {
      "cell_type": "code",
      "metadata": {
        "colab": {
          "base_uri": "https://localhost:8080/",
          "height": 355
        },
        "id": "vM3D4Q-0kX4q",
        "outputId": "2d134eba-8c20-4967-eef6-d4d5af17adef"
      },
      "source": [
        "fig1,ax1 = plt.subplots()\r\n",
        "fig1.set_size_inches(20,5)\r\n",
        "sns.boxplot(data=train,x=\"hour\",y=\"fare_amount\",orient=\"v\",ax=ax1)"
      ],
      "execution_count": 36,
      "outputs": [
        {
          "output_type": "execute_result",
          "data": {
            "text/plain": [
              "<matplotlib.axes._subplots.AxesSubplot at 0x7fbf826e53d0>"
            ]
          },
          "metadata": {
            "tags": []
          },
          "execution_count": 36
        },
        {
          "output_type": "display_data",
          "data": {
            "image/png": "[encoded data removed]",
            "text/plain": [
              "<Figure size 1440x360 with 1 Axes>"
            ]
          },
          "metadata": {
            "tags": [],
            "needs_background": "light"
          }
        }
      ]
    },
    {
      "cell_type": "markdown",
      "metadata": {
        "id": "GNRseQ1sknxu"
      },
      "source": [
        "Fare is higher in midnight."
      ]
    },
    {
      "cell_type": "markdown",
      "metadata": {
        "id": "Zu-d_pWEjlaq"
      },
      "source": [
        "# Preprocessing for longtitude, latitude."
      ]
    },
    {
      "cell_type": "markdown",
      "metadata": {
        "id": "BQBWwNbCiiEe"
      },
      "source": [
        "We can create distance variable from pickup/dropoff longtitude and latitiude."
      ]
    },
    {
      "cell_type": "code",
      "metadata": {
        "id": "RLif55N3gTjZ"
      },
      "source": [
        "def distance(lat1, lon1, lat2, lon2):\r\n",
        "    p = 0.017453292519943295 # Pi/180\r\n",
        "    a = 0.5 - np.cos((lat2 - lat1) * p)/2 + np.cos(lat1 * p) * np.cos(lat2 * p) * (1 - np.cos((lon2 - lon1) * p)) / 2\r\n",
        "    return 0.6213712 * 12742 * np.arcsin(np.sqrt(a)) # 2*R*asin..."
      ],
      "execution_count": 37,
      "outputs": []
    },
    {
      "cell_type": "code",
      "metadata": {
        "id": "CNQjyp1QOPtS"
      },
      "source": [
        "# add new column to dataframe with distance in miles\r\n",
        "train['distance_miles'] = distance(train.pickup_latitude, train.pickup_longitude, train.dropoff_latitude, train.dropoff_longitude)"
      ],
      "execution_count": 38,
      "outputs": []
    },
    {
      "cell_type": "code",
      "metadata": {
        "colab": {
          "base_uri": "https://localhost:8080/",
          "height": 198
        },
        "id": "sP139ylkOoZ3",
        "outputId": "5efc1ed8-b4bb-4df1-f4ce-427f4f3105fb"
      },
      "source": [
        "train.head()"
      ],
      "execution_count": 39,
      "outputs": [
        {
          "output_type": "execute_result",
          "data": {
            "text/html": [
              "<div>\n",
              "<style scoped>\n",
              "    .dataframe tbody tr th:only-of-type {\n",
              "        vertical-align: middle;\n",
              "    }\n",
              "\n",
              "    .dataframe tbody tr th {\n",
              "        vertical-align: top;\n",
              "    }\n",
              "\n",
              "    .dataframe thead th {\n",
              "        text-align: right;\n",
              "    }\n",
              "</style>\n",
              "<table border=\"1\" class=\"dataframe\">\n",
              "  <thead>\n",
              "    <tr style=\"text-align: right;\">\n",
              "      <th></th>\n",
              "      <th>fare_amount</th>\n",
              "      <th>pickup_longitude</th>\n",
              "      <th>pickup_latitude</th>\n",
              "      <th>dropoff_longitude</th>\n",
              "      <th>dropoff_latitude</th>\n",
              "      <th>passenger_count</th>\n",
              "      <th>Year</th>\n",
              "      <th>Month</th>\n",
              "      <th>weekday</th>\n",
              "      <th>hour</th>\n",
              "      <th>distance_miles</th>\n",
              "    </tr>\n",
              "  </thead>\n",
              "  <tbody>\n",
              "    <tr>\n",
              "      <th>0</th>\n",
              "      <td>4.5</td>\n",
              "      <td>-73.844311</td>\n",
              "      <td>40.721319</td>\n",
              "      <td>-73.841610</td>\n",
              "      <td>40.712278</td>\n",
              "      <td>1</td>\n",
              "      <td>2009</td>\n",
              "      <td>6</td>\n",
              "      <td>0</td>\n",
              "      <td>17</td>\n",
              "      <td>0.640487</td>\n",
              "    </tr>\n",
              "    <tr>\n",
              "      <th>1</th>\n",
              "      <td>16.9</td>\n",
              "      <td>-74.016048</td>\n",
              "      <td>40.711303</td>\n",
              "      <td>-73.979268</td>\n",
              "      <td>40.782004</td>\n",
              "      <td>1</td>\n",
              "      <td>2010</td>\n",
              "      <td>1</td>\n",
              "      <td>1</td>\n",
              "      <td>16</td>\n",
              "      <td>5.250670</td>\n",
              "    </tr>\n",
              "    <tr>\n",
              "      <th>2</th>\n",
              "      <td>5.7</td>\n",
              "      <td>-73.982738</td>\n",
              "      <td>40.761270</td>\n",
              "      <td>-73.991242</td>\n",
              "      <td>40.750562</td>\n",
              "      <td>2</td>\n",
              "      <td>2011</td>\n",
              "      <td>8</td>\n",
              "      <td>3</td>\n",
              "      <td>0</td>\n",
              "      <td>0.863411</td>\n",
              "    </tr>\n",
              "    <tr>\n",
              "      <th>3</th>\n",
              "      <td>7.7</td>\n",
              "      <td>-73.987130</td>\n",
              "      <td>40.733143</td>\n",
              "      <td>-73.991567</td>\n",
              "      <td>40.758092</td>\n",
              "      <td>1</td>\n",
              "      <td>2012</td>\n",
              "      <td>4</td>\n",
              "      <td>5</td>\n",
              "      <td>4</td>\n",
              "      <td>1.739386</td>\n",
              "    </tr>\n",
              "    <tr>\n",
              "      <th>4</th>\n",
              "      <td>5.3</td>\n",
              "      <td>-73.968095</td>\n",
              "      <td>40.768008</td>\n",
              "      <td>-73.956655</td>\n",
              "      <td>40.783762</td>\n",
              "      <td>1</td>\n",
              "      <td>2010</td>\n",
              "      <td>3</td>\n",
              "      <td>1</td>\n",
              "      <td>7</td>\n",
              "      <td>1.242218</td>\n",
              "    </tr>\n",
              "  </tbody>\n",
              "</table>\n",
              "</div>"
            ],
            "text/plain": [
              "   fare_amount  pickup_longitude  pickup_latitude  dropoff_longitude  \\\n",
              "0          4.5        -73.844311        40.721319         -73.841610   \n",
              "1         16.9        -74.016048        40.711303         -73.979268   \n",
              "2          5.7        -73.982738        40.761270         -73.991242   \n",
              "3          7.7        -73.987130        40.733143         -73.991567   \n",
              "4          5.3        -73.968095        40.768008         -73.956655   \n",
              "\n",
              "   dropoff_latitude  passenger_count  Year  Month  weekday  hour  \\\n",
              "0         40.712278                1  2009      6        0    17   \n",
              "1         40.782004                1  2010      1        1    16   \n",
              "2         40.750562                2  2011      8        3     0   \n",
              "3         40.758092                1  2012      4        5     4   \n",
              "4         40.783762                1  2010      3        1     7   \n",
              "\n",
              "   distance_miles  \n",
              "0        0.640487  \n",
              "1        5.250670  \n",
              "2        0.863411  \n",
              "3        1.739386  \n",
              "4        1.242218  "
            ]
          },
          "metadata": {
            "tags": []
          },
          "execution_count": 39
        }
      ]
    },
    {
      "cell_type": "code",
      "metadata": {
        "id": "soED7eTgPQNm"
      },
      "source": [
        "# add new column to dataframe with distance in miles\r\n",
        "test['distance_miles'] = distance(test.pickup_latitude, test.pickup_longitude, test.dropoff_latitude, test.dropoff_longitude)"
      ],
      "execution_count": 40,
      "outputs": []
    },
    {
      "cell_type": "code",
      "metadata": {
        "colab": {
          "base_uri": "https://localhost:8080/",
          "height": 198
        },
        "id": "8Tr6PEBQPmSZ",
        "outputId": "f4b44824-166d-46e3-f399-f528aedffe4c"
      },
      "source": [
        "test.head()"
      ],
      "execution_count": 41,
      "outputs": [
        {
          "output_type": "execute_result",
          "data": {
            "text/html": [
              "<div>\n",
              "<style scoped>\n",
              "    .dataframe tbody tr th:only-of-type {\n",
              "        vertical-align: middle;\n",
              "    }\n",
              "\n",
              "    .dataframe tbody tr th {\n",
              "        vertical-align: top;\n",
              "    }\n",
              "\n",
              "    .dataframe thead th {\n",
              "        text-align: right;\n",
              "    }\n",
              "</style>\n",
              "<table border=\"1\" class=\"dataframe\">\n",
              "  <thead>\n",
              "    <tr style=\"text-align: right;\">\n",
              "      <th></th>\n",
              "      <th>pickup_longitude</th>\n",
              "      <th>pickup_latitude</th>\n",
              "      <th>dropoff_longitude</th>\n",
              "      <th>dropoff_latitude</th>\n",
              "      <th>passenger_count</th>\n",
              "      <th>Year</th>\n",
              "      <th>Month</th>\n",
              "      <th>weekday</th>\n",
              "      <th>hour</th>\n",
              "      <th>distance_miles</th>\n",
              "    </tr>\n",
              "  </thead>\n",
              "  <tbody>\n",
              "    <tr>\n",
              "      <th>0</th>\n",
              "      <td>-73.973320</td>\n",
              "      <td>40.763805</td>\n",
              "      <td>-73.981430</td>\n",
              "      <td>40.743835</td>\n",
              "      <td>1</td>\n",
              "      <td>2015</td>\n",
              "      <td>1</td>\n",
              "      <td>1</td>\n",
              "      <td>13</td>\n",
              "      <td>1.443607</td>\n",
              "    </tr>\n",
              "    <tr>\n",
              "      <th>1</th>\n",
              "      <td>-73.986862</td>\n",
              "      <td>40.719383</td>\n",
              "      <td>-73.998886</td>\n",
              "      <td>40.739201</td>\n",
              "      <td>1</td>\n",
              "      <td>2015</td>\n",
              "      <td>1</td>\n",
              "      <td>1</td>\n",
              "      <td>13</td>\n",
              "      <td>1.507044</td>\n",
              "    </tr>\n",
              "    <tr>\n",
              "      <th>2</th>\n",
              "      <td>-73.982524</td>\n",
              "      <td>40.751260</td>\n",
              "      <td>-73.979654</td>\n",
              "      <td>40.746139</td>\n",
              "      <td>1</td>\n",
              "      <td>2011</td>\n",
              "      <td>10</td>\n",
              "      <td>5</td>\n",
              "      <td>11</td>\n",
              "      <td>0.384398</td>\n",
              "    </tr>\n",
              "    <tr>\n",
              "      <th>3</th>\n",
              "      <td>-73.981160</td>\n",
              "      <td>40.767807</td>\n",
              "      <td>-73.990448</td>\n",
              "      <td>40.751635</td>\n",
              "      <td>1</td>\n",
              "      <td>2012</td>\n",
              "      <td>12</td>\n",
              "      <td>5</td>\n",
              "      <td>21</td>\n",
              "      <td>1.218529</td>\n",
              "    </tr>\n",
              "    <tr>\n",
              "      <th>4</th>\n",
              "      <td>-73.966046</td>\n",
              "      <td>40.789775</td>\n",
              "      <td>-73.988565</td>\n",
              "      <td>40.744427</td>\n",
              "      <td>1</td>\n",
              "      <td>2012</td>\n",
              "      <td>12</td>\n",
              "      <td>5</td>\n",
              "      <td>21</td>\n",
              "      <td>3.347514</td>\n",
              "    </tr>\n",
              "  </tbody>\n",
              "</table>\n",
              "</div>"
            ],
            "text/plain": [
              "   pickup_longitude  pickup_latitude  dropoff_longitude  dropoff_latitude  \\\n",
              "0        -73.973320        40.763805         -73.981430         40.743835   \n",
              "1        -73.986862        40.719383         -73.998886         40.739201   \n",
              "2        -73.982524        40.751260         -73.979654         40.746139   \n",
              "3        -73.981160        40.767807         -73.990448         40.751635   \n",
              "4        -73.966046        40.789775         -73.988565         40.744427   \n",
              "\n",
              "   passenger_count  Year  Month  weekday  hour  distance_miles  \n",
              "0                1  2015      1        1    13        1.443607  \n",
              "1                1  2015      1        1    13        1.507044  \n",
              "2                1  2011     10        5    11        0.384398  \n",
              "3                1  2012     12        5    21        1.218529  \n",
              "4                1  2012     12        5    21        3.347514  "
            ]
          },
          "metadata": {
            "tags": []
          },
          "execution_count": 41
        }
      ]
    },
    {
      "cell_type": "markdown",
      "metadata": {
        "id": "gbm3KBsxwWx3"
      },
      "source": [
        "It seems the latitude and longtitude columns are no more needed, because, we could calculate the distance based on these values.\r\n",
        "\r\n",
        "So, dorp these columns."
      ]
    },
    {
      "cell_type": "code",
      "metadata": {
        "id": "LQw9JiaePn2H"
      },
      "source": [
        "train=train.drop(['pickup_longitude'],axis=1)\r\n",
        "train=train.drop(['pickup_latitude'],axis=1)\r\n",
        "train=train.drop(['dropoff_longitude'],axis=1)\r\n",
        "train=train.drop(['dropoff_latitude'],axis=1)"
      ],
      "execution_count": 42,
      "outputs": []
    },
    {
      "cell_type": "code",
      "metadata": {
        "id": "ICAY2TBhwzRx"
      },
      "source": [
        "test=test.drop(['pickup_longitude'],axis=1)\r\n",
        "test=test.drop(['pickup_latitude'],axis=1)\r\n",
        "test=test.drop(['dropoff_longitude'],axis=1)\r\n",
        "test=test.drop(['dropoff_latitude'],axis=1)"
      ],
      "execution_count": 43,
      "outputs": []
    },
    {
      "cell_type": "code",
      "metadata": {
        "colab": {
          "base_uri": "https://localhost:8080/",
          "height": 198
        },
        "id": "WkHNUhruw1lk",
        "outputId": "b050a3a1-b7ea-4e6c-dae2-5855dcf728a7"
      },
      "source": [
        "train.head()"
      ],
      "execution_count": 44,
      "outputs": [
        {
          "output_type": "execute_result",
          "data": {
            "text/html": [
              "<div>\n",
              "<style scoped>\n",
              "    .dataframe tbody tr th:only-of-type {\n",
              "        vertical-align: middle;\n",
              "    }\n",
              "\n",
              "    .dataframe tbody tr th {\n",
              "        vertical-align: top;\n",
              "    }\n",
              "\n",
              "    .dataframe thead th {\n",
              "        text-align: right;\n",
              "    }\n",
              "</style>\n",
              "<table border=\"1\" class=\"dataframe\">\n",
              "  <thead>\n",
              "    <tr style=\"text-align: right;\">\n",
              "      <th></th>\n",
              "      <th>fare_amount</th>\n",
              "      <th>passenger_count</th>\n",
              "      <th>Year</th>\n",
              "      <th>Month</th>\n",
              "      <th>weekday</th>\n",
              "      <th>hour</th>\n",
              "      <th>distance_miles</th>\n",
              "    </tr>\n",
              "  </thead>\n",
              "  <tbody>\n",
              "    <tr>\n",
              "      <th>0</th>\n",
              "      <td>4.5</td>\n",
              "      <td>1</td>\n",
              "      <td>2009</td>\n",
              "      <td>6</td>\n",
              "      <td>0</td>\n",
              "      <td>17</td>\n",
              "      <td>0.640487</td>\n",
              "    </tr>\n",
              "    <tr>\n",
              "      <th>1</th>\n",
              "      <td>16.9</td>\n",
              "      <td>1</td>\n",
              "      <td>2010</td>\n",
              "      <td>1</td>\n",
              "      <td>1</td>\n",
              "      <td>16</td>\n",
              "      <td>5.250670</td>\n",
              "    </tr>\n",
              "    <tr>\n",
              "      <th>2</th>\n",
              "      <td>5.7</td>\n",
              "      <td>2</td>\n",
              "      <td>2011</td>\n",
              "      <td>8</td>\n",
              "      <td>3</td>\n",
              "      <td>0</td>\n",
              "      <td>0.863411</td>\n",
              "    </tr>\n",
              "    <tr>\n",
              "      <th>3</th>\n",
              "      <td>7.7</td>\n",
              "      <td>1</td>\n",
              "      <td>2012</td>\n",
              "      <td>4</td>\n",
              "      <td>5</td>\n",
              "      <td>4</td>\n",
              "      <td>1.739386</td>\n",
              "    </tr>\n",
              "    <tr>\n",
              "      <th>4</th>\n",
              "      <td>5.3</td>\n",
              "      <td>1</td>\n",
              "      <td>2010</td>\n",
              "      <td>3</td>\n",
              "      <td>1</td>\n",
              "      <td>7</td>\n",
              "      <td>1.242218</td>\n",
              "    </tr>\n",
              "  </tbody>\n",
              "</table>\n",
              "</div>"
            ],
            "text/plain": [
              "   fare_amount  passenger_count  Year  Month  weekday  hour  distance_miles\n",
              "0          4.5                1  2009      6        0    17        0.640487\n",
              "1         16.9                1  2010      1        1    16        5.250670\n",
              "2          5.7                2  2011      8        3     0        0.863411\n",
              "3          7.7                1  2012      4        5     4        1.739386\n",
              "4          5.3                1  2010      3        1     7        1.242218"
            ]
          },
          "metadata": {
            "tags": []
          },
          "execution_count": 44
        }
      ]
    },
    {
      "cell_type": "markdown",
      "metadata": {
        "id": "Jmtg7yyJxIV7"
      },
      "source": [
        "# Modeling LightGBM with Optuna"
      ]
    },
    {
      "cell_type": "code",
      "metadata": {
        "id": "pOGdUNyOxS57",
        "colab": {
          "base_uri": "https://localhost:8080/",
          "height": 0
        },
        "outputId": "c2526797-7606-4db7-9796-a9f1a3f6972a"
      },
      "source": [
        "'''\r\n",
        "x_train = train.drop(['fare_amount'], axis = 1)\r\n",
        "y_train = train['fare_amount']\r\n",
        "'''"
      ],
      "execution_count": 45,
      "outputs": [
        {
          "output_type": "execute_result",
          "data": {
            "application/vnd.google.colaboratory.intrinsic+json": {
              "type": "string"
            },
            "text/plain": [
              "\"\\nx_train = train.drop(['fare_amount'], axis = 1)\\ny_train = train['fare_amount']\\n\""
            ]
          },
          "metadata": {
            "tags": []
          },
          "execution_count": 45
        }
      ]
    },
    {
      "cell_type": "code",
      "metadata": {
        "id": "M8SNmzKmw4ZL",
        "colab": {
          "base_uri": "https://localhost:8080/",
          "height": 0
        },
        "outputId": "50044620-dd06-4367-8018-3e51800679f4"
      },
      "source": [
        "'''\r\n",
        "# Train/validation用にデータ分割\r\n",
        "from sklearn.model_selection import train_test_split\r\n",
        "X_train,X_test,Y_train,Y_test = train_test_split(x_train,y_train,test_size=0.2,random_state=42)\r\n",
        "'''"
      ],
      "execution_count": 46,
      "outputs": [
        {
          "output_type": "execute_result",
          "data": {
            "application/vnd.google.colaboratory.intrinsic+json": {
              "type": "string"
            },
            "text/plain": [
              "'\\n# Train/validation用にデータ分割\\nfrom sklearn.model_selection import train_test_split\\nX_train,X_test,Y_train,Y_test = train_test_split(x_train,y_train,test_size=0.2,random_state=42)\\n'"
            ]
          },
          "metadata": {
            "tags": []
          },
          "execution_count": 46
        }
      ]
    },
    {
      "cell_type": "code",
      "metadata": {
        "id": "INBqaxQGxY9F",
        "colab": {
          "base_uri": "https://localhost:8080/",
          "height": 0
        },
        "outputId": "08f80b8d-4785-4ac1-a337-74fe57c84327"
      },
      "source": [
        "'''\r\n",
        "#LightGBM用のデータ作成\r\n",
        "lgb_train = lgb.Dataset(X_train, Y_train)\r\n",
        "lgb_valid = lgb.Dataset(X_test, Y_test, reference=lgb_train)\r\n",
        "'''"
      ],
      "execution_count": 47,
      "outputs": [
        {
          "output_type": "execute_result",
          "data": {
            "application/vnd.google.colaboratory.intrinsic+json": {
              "type": "string"
            },
            "text/plain": [
              "'\\n#LightGBM用のデータ作成\\nlgb_train = lgb.Dataset(X_train, Y_train)\\nlgb_valid = lgb.Dataset(X_test, Y_test, reference=lgb_train)\\n'"
            ]
          },
          "metadata": {
            "tags": []
          },
          "execution_count": 47
        }
      ]
    },
    {
      "cell_type": "code",
      "metadata": {
        "id": "dNTnis9Gxi9b",
        "colab": {
          "base_uri": "https://localhost:8080/",
          "height": 0
        },
        "outputId": "b73c9fa3-4666-44bc-e208-72ed2a60cf02"
      },
      "source": [
        "'''\r\n",
        "# to record eval results for plotting\r\n",
        "evals_result = {} \r\n",
        "'''"
      ],
      "execution_count": 48,
      "outputs": [
        {
          "output_type": "execute_result",
          "data": {
            "application/vnd.google.colaboratory.intrinsic+json": {
              "type": "string"
            },
            "text/plain": [
              "'\\n# to record eval results for plotting\\nevals_result = {} \\n'"
            ]
          },
          "metadata": {
            "tags": []
          },
          "execution_count": 48
        }
      ]
    },
    {
      "cell_type": "code",
      "metadata": {
        "id": "AoCUqY8Gxkzf",
        "colab": {
          "base_uri": "https://localhost:8080/",
          "height": 0
        },
        "outputId": "4a04e2cf-2303-45f2-9d75-ca6c17662242"
      },
      "source": [
        "'''\r\n",
        "#OptunaチューニングParam\r\n",
        "optuna_params = {\r\n",
        "    'task': 'train',\r\n",
        "    #'boosting_type': 'gbdt',\r\n",
        "    'objective': 'regression',# regression(回帰), binary(二値分類, ラベルは0,1),multiclass(多クラス分類, metricとしては、multi_logloss, multi_error(正答率))\r\n",
        "    'metric': \"rmse\", #regression : 絶対値誤差関数(L1)ならばmae, 2乗誤差関数(L2)ならばmseと指定, rmse\r\n",
        "                      #binary : binary_logloss(クロスエントロピー)とbinary_error(正答率)の2つ\r\n",
        "                      #multiclass : multi_logloss(softmax関数)とmulti_error(正答率)の2つ\r\n",
        "    #'num_leaves': 20,#木にある分岐の個数．デフォルトは31, 大きくすると精度は上がるが過学習が進む\r\n",
        "    #'max_depth': 10,#木構造の深さを限定するための変数．データが少ないときに過学習を防ぐために設定する．デフォルト値は-1で0以下の値は制限なしを意味する．\r\n",
        "    #'learning_rate': 0.05,#学習率。デフォルトは0.1\r\n",
        "    #'feature_fraction': 0.9,#学習の高速化と過学習の抑制に使用される．データの特徴量のfeature_fraction * 100 % だけ使用する．\r\n",
        "    #'min_data_in_leaf':4,#大きくすることでデータと分岐が1対1対応することを防ぎ，結果として過学習を抑制する．\r\n",
        "    #'verbose':50\r\n",
        "}\r\n",
        "'''"
      ],
      "execution_count": 49,
      "outputs": [
        {
          "output_type": "execute_result",
          "data": {
            "application/vnd.google.colaboratory.intrinsic+json": {
              "type": "string"
            },
            "text/plain": [
              "'\\n#OptunaチューニングParam\\noptuna_params = {\\n    \\'task\\': \\'train\\',\\n    #\\'boosting_type\\': \\'gbdt\\',\\n    \\'objective\\': \\'regression\\',# regression(回帰), binary(二値分類, ラベルは0,1),multiclass(多クラス分類, metricとしては、multi_logloss, multi_error(正答率))\\n    \\'metric\\': \"rmse\", #regression : 絶対値誤差関数(L1)ならばmae, 2乗誤差関数(L2)ならばmseと指定, rmse\\n                      #binary : binary_logloss(クロスエントロピー)とbinary_error(正答率)の2つ\\n                      #multiclass : multi_logloss(softmax関数)とmulti_error(正答率)の2つ\\n    #\\'num_leaves\\': 20,#木にある分岐の個数．デフォルトは31, 大きくすると精度は上がるが過学習が進む\\n    #\\'max_depth\\': 10,#木構造の深さを限定するための変数．データが少ないときに過学習を防ぐために設定する．デフォルト値は-1で0以下の値は制限なしを意味する．\\n    #\\'learning_rate\\': 0.05,#学習率。デフォルトは0.1\\n    #\\'feature_fraction\\': 0.9,#学習の高速化と過学習の抑制に使用される．データの特徴量のfeature_fraction * 100 % だけ使用する．\\n    #\\'min_data_in_leaf\\':4,#大きくすることでデータと分岐が1対1対応することを防ぎ，結果として過学習を抑制する．\\n    #\\'verbose\\':50\\n}\\n'"
            ]
          },
          "metadata": {
            "tags": []
          },
          "execution_count": 49
        }
      ]
    },
    {
      "cell_type": "code",
      "metadata": {
        "id": "tE3Dsg3jx_h8",
        "colab": {
          "base_uri": "https://localhost:8080/",
          "height": 0
        },
        "outputId": "1777c5fb-0c22-4d48-f401-5ff46827d9c3"
      },
      "source": [
        "'''\r\n",
        "#Optunaを用いて最適化し、LGBにTrainさせる\r\n",
        "model = lgb.train(optuna_params,\r\n",
        "                  lgb_train,\r\n",
        "                  valid_sets=lgb_valid,\r\n",
        "                  verbose_eval=0,\r\n",
        "                  num_boost_round=1000,\r\n",
        "                  early_stopping_rounds=50\r\n",
        "                  )\r\n",
        "                  '''\r\n"
      ],
      "execution_count": 50,
      "outputs": [
        {
          "output_type": "execute_result",
          "data": {
            "application/vnd.google.colaboratory.intrinsic+json": {
              "type": "string"
            },
            "text/plain": [
              "'\\n#Optunaを用いて最適化し、LGBにTrainさせる\\nmodel = lgb.train(optuna_params,\\n                  lgb_train,\\n                  valid_sets=lgb_valid,\\n                  verbose_eval=0,\\n                  num_boost_round=1000,\\n                  early_stopping_rounds=50\\n                  )\\n                  '"
            ]
          },
          "metadata": {
            "tags": []
          },
          "execution_count": 50
        }
      ]
    },
    {
      "cell_type": "code",
      "metadata": {
        "id": "oZifmOD7yHD-",
        "colab": {
          "base_uri": "https://localhost:8080/",
          "height": 0
        },
        "outputId": "a4216f82-ffe2-4a41-b2e8-a4fbec1e8e33"
      },
      "source": [
        "'''\r\n",
        "y_pred_test = model.predict(X_test, num_iteration=model.best_iteration)\r\n",
        "'''\r\n"
      ],
      "execution_count": 51,
      "outputs": [
        {
          "output_type": "execute_result",
          "data": {
            "application/vnd.google.colaboratory.intrinsic+json": {
              "type": "string"
            },
            "text/plain": [
              "'\\ny_pred_test = model.predict(X_test, num_iteration=model.best_iteration)\\n'"
            ]
          },
          "metadata": {
            "tags": []
          },
          "execution_count": 51
        }
      ]
    },
    {
      "cell_type": "code",
      "metadata": {
        "id": "luBIwpz_yL00",
        "colab": {
          "base_uri": "https://localhost:8080/",
          "height": 0
        },
        "outputId": "f2f4ba60-2a23-4ee4-a292-7b9f3a92f866"
      },
      "source": [
        "'''\r\n",
        "# eval rmse\r\n",
        "print('\\nThe rmse of prediction is:', mean_squared_error(Y_test, y_pred_test) ** 0.5)\r\n",
        "accuracy = mean_squared_error(Y_test, y_pred_test) ** 0.5\r\n",
        "'''\r\n"
      ],
      "execution_count": 52,
      "outputs": [
        {
          "output_type": "execute_result",
          "data": {
            "application/vnd.google.colaboratory.intrinsic+json": {
              "type": "string"
            },
            "text/plain": [
              "\"\\n# eval rmse\\nprint('\\nThe rmse of prediction is:', mean_squared_error(Y_test, y_pred_test) ** 0.5)\\naccuracy = mean_squared_error(Y_test, y_pred_test) ** 0.5\\n\""
            ]
          },
          "metadata": {
            "tags": []
          },
          "execution_count": 52
        }
      ]
    },
    {
      "cell_type": "code",
      "metadata": {
        "id": "QmDS6zq7yXmI",
        "colab": {
          "base_uri": "https://localhost:8080/",
          "height": 0
        },
        "outputId": "9e41b942-1753-4983-ffe4-60534b3f22f8"
      },
      "source": [
        "'''\r\n",
        "best_params = model.params\r\n",
        "print(\"Best params:\", best_params)\r\n",
        "print(\"  Accuracy = {}\".format(accuracy))\r\n",
        "print(\"  Params: \")\r\n",
        "for key, value in best_params.items():\r\n",
        "    print(\"    {}: {}\".format(key, value))\r\n",
        "    '''\r\n"
      ],
      "execution_count": 53,
      "outputs": [
        {
          "output_type": "execute_result",
          "data": {
            "application/vnd.google.colaboratory.intrinsic+json": {
              "type": "string"
            },
            "text/plain": [
              "'\\nbest_params = model.params\\nprint(\"Best params:\", best_params)\\nprint(\"  Accuracy = {}\".format(accuracy))\\nprint(\"  Params: \")\\nfor key, value in best_params.items():\\n    print(\"    {}: {}\".format(key, value))\\n    '"
            ]
          },
          "metadata": {
            "tags": []
          },
          "execution_count": 53
        }
      ]
    },
    {
      "cell_type": "code",
      "metadata": {
        "id": "iQS1W64Qyh2i",
        "colab": {
          "base_uri": "https://localhost:8080/",
          "height": 0
        },
        "outputId": "d3da2c0f-1705-4899-a0d5-8ce409ef9617"
      },
      "source": [
        "'''\r\n",
        "y_pred = model.predict(test, num_iteration=model.best_iteration)\r\n",
        "'''\r\n"
      ],
      "execution_count": 54,
      "outputs": [
        {
          "output_type": "execute_result",
          "data": {
            "application/vnd.google.colaboratory.intrinsic+json": {
              "type": "string"
            },
            "text/plain": [
              "'\\ny_pred = model.predict(test, num_iteration=model.best_iteration)\\n'"
            ]
          },
          "metadata": {
            "tags": []
          },
          "execution_count": 54
        }
      ]
    },
    {
      "cell_type": "markdown",
      "metadata": {
        "id": "Coh9ZOAbeHVl"
      },
      "source": [
        "# Deep Learning"
      ]
    },
    {
      "cell_type": "code",
      "metadata": {
        "id": "2u1iqYR2eKSr"
      },
      "source": [
        "train_df, test_df = train_test_split(train, test_size=0.10, random_state=1)"
      ],
      "execution_count": 55,
      "outputs": []
    },
    {
      "cell_type": "code",
      "metadata": {
        "id": "hydeUMoDeUtf"
      },
      "source": [
        "# Get labels\r\n",
        "train_labels = train_df['fare_amount'].values\r\n",
        "test_labels = test_df['fare_amount'].values\r\n",
        "train_df = train_df.drop(['fare_amount'], axis=1)\r\n",
        "test_df = test_df.drop(['fare_amount'], axis=1)"
      ],
      "execution_count": 56,
      "outputs": []
    },
    {
      "cell_type": "code",
      "metadata": {
        "id": "VtzGWaOIeiV7"
      },
      "source": [
        "# Scale data\r\n",
        "# Note: im doing this here with sklearn scaler but, on the Coursera code the scaling is done with Dataflow and Tensorflow\r\n",
        "scaler = preprocessing.MinMaxScaler()#0-1に正規化\r\n",
        "train_df_scaled = scaler.fit_transform(train_df)\r\n",
        "test_df_scaled = scaler.transform(test_df)\r\n",
        "test_scaled = scaler.transform(test)"
      ],
      "execution_count": 57,
      "outputs": []
    },
    {
      "cell_type": "code",
      "metadata": {
        "id": "D2jWgRmae04e"
      },
      "source": [
        "from keras import regularizers\r\n",
        "from keras.layers import Dense, BatchNormalization, Activation\r\n",
        "model = Sequential()\r\n",
        "model.add(Dense(256, activation='relu', input_dim=train_df_scaled.shape[1], activity_regularizer=regularizers.l1(0.01)))#activationは、特徴の学習をしやすくするために、データを整える。\r\n",
        "#ReLuは「0より大きければそのまま、0より小さければ0に置き換えて」出力, 回帰分析\r\n",
        "#Sigmoidは「0から1の間にマッピングしなおして」出力, 分類\r\n",
        "model.add(BatchNormalization())# DLにおける各重みパラメータを上手くreparametrizationすることで、ネットワークを最適化するための方法の一つ。\r\n",
        "model.add(Dense(128, activation='relu'))\r\n",
        "model.add(BatchNormalization())\r\n",
        "model.add(Dense(64, activation='relu'))\r\n",
        "model.add(BatchNormalization())\r\n",
        "model.add(Dense(32, activation='relu'))\r\n",
        "model.add(BatchNormalization())\r\n",
        "model.add(Dense(8, activation='relu'))\r\n",
        "model.add(BatchNormalization())\r\n",
        "model.add(Dense(1))"
      ],
      "execution_count": 58,
      "outputs": []
    },
    {
      "cell_type": "code",
      "metadata": {
        "id": "D3S1dBF_pzIS"
      },
      "source": [
        "BATCH_SIZE = 256\r\n",
        "EPOCHS = 50\r\n",
        "LEARNING_RATE = 0.001\r\n",
        "DATASET_SIZE = 6000000"
      ],
      "execution_count": 59,
      "outputs": []
    },
    {
      "cell_type": "code",
      "metadata": {
        "id": "Wje9eu22e7gb"
      },
      "source": [
        "from keras import optimizers \r\n",
        "adam = optimizers.Adam(lr=LEARNING_RATE)#adamは、最適化アルゴリズム\r\n",
        "model.compile(loss='mse', optimizer=adam, metrics=['mae'])\r\n",
        "#mse:平均二乗誤差\r\n",
        "#mae:平均絶対誤差"
      ],
      "execution_count": 60,
      "outputs": []
    },
    {
      "cell_type": "code",
      "metadata": {
        "id": "O2Ni26Tce8x9",
        "colab": {
          "base_uri": "https://localhost:8080/"
        },
        "outputId": "73199b64-341f-4fd0-bd66-0ff4e8192df3"
      },
      "source": [
        "print('Dataset size: %s' % DATASET_SIZE)\r\n",
        "print('Epochs: %s' % EPOCHS)\r\n",
        "print('Learning rate: %s' % LEARNING_RATE)\r\n",
        "print('Batch size: %s' % BATCH_SIZE)\r\n",
        "print('Input dimension: %s' % train_df_scaled.shape[1])\r\n",
        "print('Features used: %s' % train_df.columns)\r\n"
      ],
      "execution_count": 61,
      "outputs": [
        {
          "output_type": "stream",
          "text": [
            "Dataset size: 6000000\n",
            "Epochs: 50\n",
            "Learning rate: 0.001\n",
            "Batch size: 256\n",
            "Input dimension: 6\n",
            "Features used: Index(['passenger_count', 'Year', 'Month', 'weekday', 'hour',\n",
            "       'distance_miles'],\n",
            "      dtype='object')\n"
          ],
          "name": "stdout"
        }
      ]
    },
    {
      "cell_type": "code",
      "metadata": {
        "colab": {
          "base_uri": "https://localhost:8080/"
        },
        "id": "eC6dGwhoqAED",
        "outputId": "213e2eb9-0371-4bf0-b76b-aabfb3a4ba72"
      },
      "source": [
        "model.summary()"
      ],
      "execution_count": 62,
      "outputs": [
        {
          "output_type": "stream",
          "text": [
            "Model: \"sequential\"\n",
            "_________________________________________________________________\n",
            "Layer (type)                 Output Shape              Param #   \n",
            "=================================================================\n",
            "dense (Dense)                (None, 256)               1792      \n",
            "_________________________________________________________________\n",
            "batch_normalization (BatchNo (None, 256)               1024      \n",
            "_________________________________________________________________\n",
            "dense_1 (Dense)              (None, 128)               32896     \n",
            "_________________________________________________________________\n",
            "batch_normalization_1 (Batch (None, 128)               512       \n",
            "_________________________________________________________________\n",
            "dense_2 (Dense)              (None, 64)                8256      \n",
            "_________________________________________________________________\n",
            "batch_normalization_2 (Batch (None, 64)                256       \n",
            "_________________________________________________________________\n",
            "dense_3 (Dense)              (None, 32)                2080      \n",
            "_________________________________________________________________\n",
            "batch_normalization_3 (Batch (None, 32)                128       \n",
            "_________________________________________________________________\n",
            "dense_4 (Dense)              (None, 8)                 264       \n",
            "_________________________________________________________________\n",
            "batch_normalization_4 (Batch (None, 8)                 32        \n",
            "_________________________________________________________________\n",
            "dense_5 (Dense)              (None, 1)                 9         \n",
            "=================================================================\n",
            "Total params: 47,249\n",
            "Trainable params: 46,273\n",
            "Non-trainable params: 976\n",
            "_________________________________________________________________\n"
          ],
          "name": "stdout"
        }
      ]
    },
    {
      "cell_type": "code",
      "metadata": {
        "id": "NksEpS8le-C6",
        "colab": {
          "base_uri": "https://localhost:8080/"
        },
        "outputId": "4a9ed6e2-b3bc-4346-9767-b46624e2a175"
      },
      "source": [
        "from keras.callbacks import EarlyStopping\r\n",
        "early_stopping = EarlyStopping(monitor = 'val_loss', patience = 20, restore_best_weights = True)\r\n",
        "history = model.fit(x=train_df_scaled, y=train_labels, batch_size=BATCH_SIZE, epochs=EPOCHS, \r\n",
        "                    verbose=1, validation_data=(test_df_scaled, test_labels), \r\n",
        "                    callbacks = [early_stopping],\r\n",
        "                    shuffle=True)\r\n",
        "#batch_sizeとは 1 回に計算するデータの数\r\n",
        "#エポック数とは1と2の手順を何回実行\r\n",
        "#1.データセットをバッチサイズに従ってN個のサブセットに分ける。\r\n",
        "#2.各サブセットを学習に回す。つまり、N回学習を繰り返す。"
      ],
      "execution_count": 63,
      "outputs": [
        {
          "output_type": "stream",
          "text": [
            "Epoch 1/50\n",
            "21018/21018 [==============================] - 111s 5ms/step - loss: 56.4348 - mae: 4.2118 - val_loss: 114.0935 - val_mae: 9.9225\n",
            "Epoch 2/50\n",
            "21018/21018 [==============================] - 108s 5ms/step - loss: 19.0538 - mae: 2.3885 - val_loss: 214.4445 - val_mae: 13.7041\n",
            "Epoch 3/50\n",
            "21018/21018 [==============================] - 106s 5ms/step - loss: 18.7785 - mae: 2.3535 - val_loss: 75.1219 - val_mae: 7.7962\n",
            "Epoch 4/50\n",
            "21018/21018 [==============================] - 107s 5ms/step - loss: 18.3596 - mae: 2.3180 - val_loss: 169.5312 - val_mae: 11.2521\n",
            "Epoch 5/50\n",
            "21018/21018 [==============================] - 107s 5ms/step - loss: 18.3176 - mae: 2.3050 - val_loss: 121.8964 - val_mae: 10.2793\n",
            "Epoch 6/50\n",
            "21018/21018 [==============================] - 108s 5ms/step - loss: 18.0764 - mae: 2.2876 - val_loss: 22.7359 - val_mae: 2.8365\n",
            "Epoch 7/50\n",
            "21018/21018 [==============================] - 107s 5ms/step - loss: 18.0380 - mae: 2.2796 - val_loss: 97.1837 - val_mae: 8.3721\n",
            "Epoch 8/50\n",
            "21018/21018 [==============================] - 107s 5ms/step - loss: 17.9290 - mae: 2.2740 - val_loss: 70.6592 - val_mae: 7.6088\n",
            "Epoch 9/50\n",
            "21018/21018 [==============================] - 109s 5ms/step - loss: 17.8482 - mae: 2.2651 - val_loss: 24.1870 - val_mae: 3.2764\n",
            "Epoch 10/50\n",
            "21018/21018 [==============================] - 110s 5ms/step - loss: 17.7904 - mae: 2.2594 - val_loss: 20.4313 - val_mae: 2.6805\n",
            "Epoch 11/50\n",
            "21018/21018 [==============================] - 108s 5ms/step - loss: 17.6899 - mae: 2.2534 - val_loss: 45.5657 - val_mae: 5.7180\n",
            "Epoch 12/50\n",
            "21018/21018 [==============================] - 108s 5ms/step - loss: 17.7736 - mae: 2.2527 - val_loss: 55.6329 - val_mae: 6.4954\n",
            "Epoch 13/50\n",
            "21018/21018 [==============================] - 106s 5ms/step - loss: 17.5928 - mae: 2.2435 - val_loss: 39.2312 - val_mae: 4.4947\n",
            "Epoch 14/50\n",
            "21018/21018 [==============================] - 106s 5ms/step - loss: 17.6375 - mae: 2.2410 - val_loss: 57.6717 - val_mae: 6.0300\n",
            "Epoch 15/50\n",
            "21018/21018 [==============================] - 107s 5ms/step - loss: 17.4795 - mae: 2.2328 - val_loss: 25.2601 - val_mae: 3.1306\n",
            "Epoch 16/50\n",
            "21018/21018 [==============================] - 106s 5ms/step - loss: 17.7337 - mae: 2.2408 - val_loss: 25.7308 - val_mae: 3.3887\n",
            "Epoch 17/50\n",
            "21018/21018 [==============================] - 107s 5ms/step - loss: 17.5834 - mae: 2.2366 - val_loss: 17.3172 - val_mae: 2.1418\n",
            "Epoch 18/50\n",
            "21018/21018 [==============================] - 104s 5ms/step - loss: 17.5044 - mae: 2.2298 - val_loss: 39.7851 - val_mae: 5.1249\n",
            "Epoch 19/50\n",
            "21018/21018 [==============================] - 106s 5ms/step - loss: 17.5847 - mae: 2.2322 - val_loss: 29.7607 - val_mae: 3.6518\n",
            "Epoch 20/50\n",
            "21018/21018 [==============================] - 105s 5ms/step - loss: 17.5052 - mae: 2.2269 - val_loss: 17.3235 - val_mae: 2.1597\n",
            "Epoch 21/50\n",
            "21018/21018 [==============================] - 106s 5ms/step - loss: 17.5840 - mae: 2.2302 - val_loss: 41.4168 - val_mae: 4.7657\n",
            "Epoch 22/50\n",
            "21018/21018 [==============================] - 106s 5ms/step - loss: 17.4728 - mae: 2.2225 - val_loss: 33.0143 - val_mae: 4.5599\n",
            "Epoch 23/50\n",
            "21018/21018 [==============================] - 109s 5ms/step - loss: 17.3728 - mae: 2.2198 - val_loss: 18.0179 - val_mae: 2.2860\n",
            "Epoch 24/50\n",
            "21018/21018 [==============================] - 106s 5ms/step - loss: 17.5503 - mae: 2.2248 - val_loss: 73.3364 - val_mae: 7.7456\n",
            "Epoch 25/50\n",
            "21018/21018 [==============================] - 108s 5ms/step - loss: 17.4784 - mae: 2.2213 - val_loss: 17.8441 - val_mae: 2.2242\n",
            "Epoch 26/50\n",
            "21018/21018 [==============================] - 107s 5ms/step - loss: 17.3767 - mae: 2.2178 - val_loss: 38.1048 - val_mae: 5.1015\n",
            "Epoch 27/50\n",
            "21018/21018 [==============================] - 107s 5ms/step - loss: 17.3312 - mae: 2.2162 - val_loss: 18.7408 - val_mae: 2.3645\n",
            "Epoch 28/50\n",
            "21018/21018 [==============================] - 106s 5ms/step - loss: 17.3269 - mae: 2.2121 - val_loss: 17.6638 - val_mae: 2.2233\n",
            "Epoch 29/50\n",
            "21018/21018 [==============================] - 108s 5ms/step - loss: 17.4475 - mae: 2.2179 - val_loss: 236.6797 - val_mae: 13.0168\n",
            "Epoch 30/50\n",
            "21018/21018 [==============================] - 107s 5ms/step - loss: 17.3883 - mae: 2.2162 - val_loss: 22.6707 - val_mae: 2.8412\n",
            "Epoch 31/50\n",
            "21018/21018 [==============================] - 107s 5ms/step - loss: 17.3982 - mae: 2.2139 - val_loss: 125.1047 - val_mae: 9.2748\n",
            "Epoch 32/50\n",
            "21018/21018 [==============================] - 107s 5ms/step - loss: 17.3884 - mae: 2.2139 - val_loss: 122.9941 - val_mae: 9.1330\n",
            "Epoch 33/50\n",
            "21018/21018 [==============================] - 105s 5ms/step - loss: 17.4322 - mae: 2.2148 - val_loss: 22.4405 - val_mae: 2.8205\n",
            "Epoch 34/50\n",
            "21018/21018 [==============================] - 106s 5ms/step - loss: 17.4062 - mae: 2.2128 - val_loss: 24.0075 - val_mae: 3.2812\n",
            "Epoch 35/50\n",
            "21018/21018 [==============================] - 110s 5ms/step - loss: 17.3784 - mae: 2.2130 - val_loss: 75.9080 - val_mae: 6.6977\n",
            "Epoch 36/50\n",
            "21018/21018 [==============================] - 105s 5ms/step - loss: 17.2517 - mae: 2.2055 - val_loss: 17.1880 - val_mae: 2.1438\n",
            "Epoch 37/50\n",
            "21018/21018 [==============================] - 108s 5ms/step - loss: 17.3855 - mae: 2.2093 - val_loss: 17.5739 - val_mae: 2.1689\n",
            "Epoch 38/50\n",
            "21018/21018 [==============================] - 104s 5ms/step - loss: 17.4146 - mae: 2.2105 - val_loss: 888.0040 - val_mae: 26.0429\n",
            "Epoch 39/50\n",
            "21018/21018 [==============================] - 103s 5ms/step - loss: 17.3076 - mae: 2.2079 - val_loss: 20.5750 - val_mae: 2.5922\n",
            "Epoch 40/50\n",
            "21018/21018 [==============================] - 103s 5ms/step - loss: 17.3202 - mae: 2.2097 - val_loss: 18.1477 - val_mae: 2.2414\n",
            "Epoch 41/50\n",
            "21018/21018 [==============================] - 105s 5ms/step - loss: 17.3195 - mae: 2.2088 - val_loss: 74.8369 - val_mae: 6.9616\n",
            "Epoch 42/50\n",
            "21018/21018 [==============================] - 104s 5ms/step - loss: 17.2916 - mae: 2.2068 - val_loss: 18.5195 - val_mae: 2.3241\n",
            "Epoch 43/50\n",
            "21018/21018 [==============================] - 103s 5ms/step - loss: 17.3275 - mae: 2.2092 - val_loss: 22.3930 - val_mae: 2.8419\n",
            "Epoch 44/50\n",
            "21018/21018 [==============================] - 104s 5ms/step - loss: 17.3383 - mae: 2.2077 - val_loss: 56.7654 - val_mae: 5.7226\n",
            "Epoch 45/50\n",
            "21018/21018 [==============================] - 105s 5ms/step - loss: 17.2632 - mae: 2.2025 - val_loss: 18.3596 - val_mae: 2.3134\n",
            "Epoch 46/50\n",
            "21018/21018 [==============================] - 102s 5ms/step - loss: 17.2501 - mae: 2.2053 - val_loss: 147.9998 - val_mae: 10.1104\n",
            "Epoch 47/50\n",
            "21018/21018 [==============================] - 103s 5ms/step - loss: 17.2938 - mae: 2.2045 - val_loss: 24.9432 - val_mae: 3.1210\n",
            "Epoch 48/50\n",
            "21018/21018 [==============================] - 103s 5ms/step - loss: 17.3233 - mae: 2.2043 - val_loss: 19.6158 - val_mae: 2.4456\n",
            "Epoch 49/50\n",
            "21018/21018 [==============================] - 104s 5ms/step - loss: 17.3727 - mae: 2.2069 - val_loss: 43.7561 - val_mae: 4.9189\n",
            "Epoch 50/50\n",
            "21018/21018 [==============================] - 103s 5ms/step - loss: 17.2761 - mae: 2.2015 - val_loss: 21.3781 - val_mae: 2.6657\n"
          ],
          "name": "stdout"
        }
      ]
    },
    {
      "cell_type": "code",
      "metadata": {
        "id": "nvY7PPcQfLbs",
        "colab": {
          "base_uri": "https://localhost:8080/",
          "height": 621
        },
        "outputId": "dfaaeb31-a793-4c94-f933-d3812aa981f9"
      },
      "source": [
        "def plot_loss_accuracy(history):\r\n",
        "    plt.figure(figsize=(20,10))\r\n",
        "    plt.plot(history.history['loss'])\r\n",
        "    plt.plot(history.history['val_loss'])\r\n",
        "    plt.title('model loss')\r\n",
        "    plt.ylabel('loss')\r\n",
        "    plt.xlabel('epoch')\r\n",
        "    plt.legend(['train', 'test'], loc='upper right')\r\n",
        "    plt.show()\r\n",
        "\r\n",
        "plot_loss_accuracy(history)"
      ],
      "execution_count": 65,
      "outputs": [
        {
          "output_type": "display_data",
          "data": {
            "image/png": "[encoded data removed]",
            "text/plain": [
              "<Figure size 1440x720 with 1 Axes>"
            ]
          },
          "metadata": {
            "tags": [],
            "needs_background": "light"
          }
        }
      ]
    },
    {
      "cell_type": "code",
      "metadata": {
        "id": "Uyoz4Ltsf7Y3",
        "colab": {
          "base_uri": "https://localhost:8080/"
        },
        "outputId": "5fc44288-5339-446b-9bf0-6ce6963be9f8"
      },
      "source": [
        "# Make prediction\r\n",
        "y_pred = model.predict(test_scaled, batch_size=128, verbose=1)"
      ],
      "execution_count": 66,
      "outputs": [
        {
          "output_type": "stream",
          "text": [
            "78/78 [==============================] - 0s 1ms/step\n"
          ],
          "name": "stdout"
        }
      ]
    },
    {
      "cell_type": "markdown",
      "metadata": {
        "id": "Wqj5zzojyqhI"
      },
      "source": [
        "# Submit"
      ]
    },
    {
      "cell_type": "code",
      "metadata": {
        "id": "wQa2MAsMynVq"
      },
      "source": [
        "#Submit方法\r\n",
        "sub = pd.DataFrame(pd.read_csv('test.csv')['key'])\r\n",
        "sub['fare_amount'] = list(map(int, y_pred))\r\n",
        "sub.to_csv('submission_yshimamu.csv', index=False)"
      ],
      "execution_count": 67,
      "outputs": []
    },
    {
      "cell_type": "code",
      "metadata": {
        "id": "nluwZI27y4rd",
        "colab": {
          "base_uri": "https://localhost:8080/"
        },
        "outputId": "5722ab98-a67b-46c9-c4de-e32eb87f63f5"
      },
      "source": [
        "!kaggle competitions submit new-york-city-taxi-fare-prediction -f submission_yshimamu.csv -m \"First commit\""
      ],
      "execution_count": 68,
      "outputs": [
        {
          "output_type": "stream",
          "text": [
            "Warning: Looks like you're using an outdated API Version, please consider updating (server 1.5.10 / client 1.5.4)\n",
            "100% 300k/300k [00:02<00:00, 113kB/s]\n",
            "Successfully submitted to New York City Taxi Fare Prediction"
          ],
          "name": "stdout"
        }
      ]
    },
    {
      "cell_type": "code",
      "metadata": {
        "id": "TlvOgsmEy_EV"
      },
      "source": [
        ""
      ],
      "execution_count": null,
      "outputs": []
    }
  ]
}